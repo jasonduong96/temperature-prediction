{
 "cells": [
  {
   "cell_type": "markdown",
   "id": "48f9c6a7",
   "metadata": {},
   "source": [
    "This model will focus on predicting whether the overall temperature Janurary of the upcoming year in New York City will be below or above average. We will use historical data from 1871, and the data will be temp. anamolies by month, starting from June."
   ]
  },
  {
   "cell_type": "code",
   "execution_count": 599,
   "id": "31fc8ffa",
   "metadata": {},
   "outputs": [],
   "source": [
    "import pandas as pd\n",
    "import numpy as np\n",
    "import matplotlib.pyplot as plt\n",
    "import seaborn as sns\n",
    "%matplotlib inline"
   ]
  },
  {
   "cell_type": "code",
   "execution_count": 600,
   "id": "73f8d659",
   "metadata": {},
   "outputs": [
    {
     "data": {
      "text/html": [
       "<div>\n",
       "<style scoped>\n",
       "    .dataframe tbody tr th:only-of-type {\n",
       "        vertical-align: middle;\n",
       "    }\n",
       "\n",
       "    .dataframe tbody tr th {\n",
       "        vertical-align: top;\n",
       "    }\n",
       "\n",
       "    .dataframe thead th {\n",
       "        text-align: right;\n",
       "    }\n",
       "</style>\n",
       "<table border=\"1\" class=\"dataframe\">\n",
       "  <thead>\n",
       "    <tr style=\"text-align: right;\">\n",
       "      <th></th>\n",
       "      <th>Average Monthly &amp; Annual Temperatures at Central Park\\nLast Updated: 5/9/21</th>\n",
       "      <th>Unnamed: 1</th>\n",
       "      <th>Unnamed: 2</th>\n",
       "      <th>Unnamed: 3</th>\n",
       "      <th>Unnamed: 4</th>\n",
       "      <th>Unnamed: 5</th>\n",
       "      <th>Unnamed: 6</th>\n",
       "      <th>Unnamed: 7</th>\n",
       "      <th>Unnamed: 8</th>\n",
       "      <th>Unnamed: 9</th>\n",
       "      <th>Unnamed: 10</th>\n",
       "      <th>Unnamed: 11</th>\n",
       "      <th>Unnamed: 12</th>\n",
       "      <th>Unnamed: 13</th>\n",
       "      <th>Unnamed: 14</th>\n",
       "    </tr>\n",
       "  </thead>\n",
       "  <tbody>\n",
       "    <tr>\n",
       "      <th>0</th>\n",
       "      <td>YEAR</td>\n",
       "      <td>JAN</td>\n",
       "      <td>FEB</td>\n",
       "      <td>MAR</td>\n",
       "      <td>APR</td>\n",
       "      <td>MAY</td>\n",
       "      <td>JUN</td>\n",
       "      <td>JUL</td>\n",
       "      <td>AUG</td>\n",
       "      <td>SEP</td>\n",
       "      <td>OCT</td>\n",
       "      <td>NOV</td>\n",
       "      <td>DEC</td>\n",
       "      <td>ANNUAL</td>\n",
       "      <td>NaN</td>\n",
       "    </tr>\n",
       "    <tr>\n",
       "      <th>1</th>\n",
       "      <td>1869</td>\n",
       "      <td>35.1</td>\n",
       "      <td>34.5</td>\n",
       "      <td>34.8</td>\n",
       "      <td>49.2</td>\n",
       "      <td>57.7</td>\n",
       "      <td>69.3</td>\n",
       "      <td>72.8</td>\n",
       "      <td>71.8</td>\n",
       "      <td>65.6</td>\n",
       "      <td>50.9</td>\n",
       "      <td>40.3</td>\n",
       "      <td>34.7</td>\n",
       "      <td>51.4</td>\n",
       "      <td>NaN</td>\n",
       "    </tr>\n",
       "    <tr>\n",
       "      <th>2</th>\n",
       "      <td>1870</td>\n",
       "      <td>37.5</td>\n",
       "      <td>31.3</td>\n",
       "      <td>34.1</td>\n",
       "      <td>50.7</td>\n",
       "      <td>60.9</td>\n",
       "      <td>72.9</td>\n",
       "      <td>76.6</td>\n",
       "      <td>75.3</td>\n",
       "      <td>67.6</td>\n",
       "      <td>56.7</td>\n",
       "      <td>45.5</td>\n",
       "      <td>34.1</td>\n",
       "      <td>53.6</td>\n",
       "      <td>NaN</td>\n",
       "    </tr>\n",
       "    <tr>\n",
       "      <th>3</th>\n",
       "      <td>1871</td>\n",
       "      <td>28.3</td>\n",
       "      <td>30.2</td>\n",
       "      <td>44.2</td>\n",
       "      <td>52.0</td>\n",
       "      <td>60.4</td>\n",
       "      <td>68.2</td>\n",
       "      <td>72.3</td>\n",
       "      <td>73.6</td>\n",
       "      <td>60.8</td>\n",
       "      <td>55.6</td>\n",
       "      <td>38.8</td>\n",
       "      <td>29.2</td>\n",
       "      <td>51.1</td>\n",
       "      <td>NaN</td>\n",
       "    </tr>\n",
       "    <tr>\n",
       "      <th>4</th>\n",
       "      <td>1872</td>\n",
       "      <td>28.8</td>\n",
       "      <td>29.9</td>\n",
       "      <td>30.5</td>\n",
       "      <td>49.4</td>\n",
       "      <td>61.5</td>\n",
       "      <td>71.2</td>\n",
       "      <td>77.5</td>\n",
       "      <td>75.6</td>\n",
       "      <td>66.4</td>\n",
       "      <td>53.2</td>\n",
       "      <td>41.0</td>\n",
       "      <td>26.7</td>\n",
       "      <td>51.0</td>\n",
       "      <td>NaN</td>\n",
       "    </tr>\n",
       "  </tbody>\n",
       "</table>\n",
       "</div>"
      ],
      "text/plain": [
       "  Average Monthly & Annual Temperatures at Central Park\\nLast Updated: 5/9/21  \\\n",
       "0                                               YEAR                            \n",
       "1                                               1869                            \n",
       "2                                               1870                            \n",
       "3                                               1871                            \n",
       "4                                               1872                            \n",
       "\n",
       "  Unnamed: 1 Unnamed: 2 Unnamed: 3 Unnamed: 4 Unnamed: 5 Unnamed: 6  \\\n",
       "0        JAN        FEB        MAR        APR        MAY        JUN   \n",
       "1       35.1       34.5       34.8       49.2       57.7       69.3   \n",
       "2       37.5       31.3       34.1       50.7       60.9       72.9   \n",
       "3       28.3       30.2       44.2       52.0       60.4       68.2   \n",
       "4       28.8       29.9       30.5       49.4       61.5       71.2   \n",
       "\n",
       "  Unnamed: 7 Unnamed: 8 Unnamed: 9 Unnamed: 10 Unnamed: 11 Unnamed: 12  \\\n",
       "0        JUL        AUG        SEP         OCT         NOV         DEC   \n",
       "1       72.8       71.8       65.6        50.9        40.3        34.7   \n",
       "2       76.6       75.3       67.6        56.7        45.5        34.1   \n",
       "3       72.3       73.6       60.8        55.6        38.8        29.2   \n",
       "4       77.5       75.6       66.4        53.2        41.0        26.7   \n",
       "\n",
       "  Unnamed: 13  Unnamed: 14  \n",
       "0      ANNUAL          NaN  \n",
       "1        51.4          NaN  \n",
       "2        53.6          NaN  \n",
       "3        51.1          NaN  \n",
       "4        51.0          NaN  "
      ]
     },
     "execution_count": 600,
     "metadata": {},
     "output_type": "execute_result"
    }
   ],
   "source": [
    "dftemp = pd.read_csv(\"central park temps.csv\")\n",
    "dftemp.head()"
   ]
  },
  {
   "cell_type": "markdown",
   "id": "7cb8c34c",
   "metadata": {},
   "source": [
    "Let's clean up the data a little bit. Get the columns to be named whatever is in row 0."
   ]
  },
  {
   "cell_type": "code",
   "execution_count": 601,
   "id": "7adfe1a3",
   "metadata": {},
   "outputs": [
    {
     "data": {
      "text/html": [
       "<div>\n",
       "<style scoped>\n",
       "    .dataframe tbody tr th:only-of-type {\n",
       "        vertical-align: middle;\n",
       "    }\n",
       "\n",
       "    .dataframe tbody tr th {\n",
       "        vertical-align: top;\n",
       "    }\n",
       "\n",
       "    .dataframe thead th {\n",
       "        text-align: right;\n",
       "    }\n",
       "</style>\n",
       "<table border=\"1\" class=\"dataframe\">\n",
       "  <thead>\n",
       "    <tr style=\"text-align: right;\">\n",
       "      <th></th>\n",
       "      <th>YEAR</th>\n",
       "      <th>JAN</th>\n",
       "      <th>FEB</th>\n",
       "      <th>MAR</th>\n",
       "      <th>APR</th>\n",
       "      <th>MAY</th>\n",
       "      <th>JUN</th>\n",
       "      <th>JUL</th>\n",
       "      <th>AUG</th>\n",
       "      <th>SEP</th>\n",
       "      <th>OCT</th>\n",
       "      <th>NOV</th>\n",
       "      <th>DEC</th>\n",
       "      <th>ANNUAL</th>\n",
       "      <th>NaN</th>\n",
       "    </tr>\n",
       "  </thead>\n",
       "  <tbody>\n",
       "    <tr>\n",
       "      <th>1</th>\n",
       "      <td>1869</td>\n",
       "      <td>35.1</td>\n",
       "      <td>34.5</td>\n",
       "      <td>34.8</td>\n",
       "      <td>49.2</td>\n",
       "      <td>57.7</td>\n",
       "      <td>69.3</td>\n",
       "      <td>72.8</td>\n",
       "      <td>71.8</td>\n",
       "      <td>65.6</td>\n",
       "      <td>50.9</td>\n",
       "      <td>40.3</td>\n",
       "      <td>34.7</td>\n",
       "      <td>51.4</td>\n",
       "      <td>NaN</td>\n",
       "    </tr>\n",
       "    <tr>\n",
       "      <th>2</th>\n",
       "      <td>1870</td>\n",
       "      <td>37.5</td>\n",
       "      <td>31.3</td>\n",
       "      <td>34.1</td>\n",
       "      <td>50.7</td>\n",
       "      <td>60.9</td>\n",
       "      <td>72.9</td>\n",
       "      <td>76.6</td>\n",
       "      <td>75.3</td>\n",
       "      <td>67.6</td>\n",
       "      <td>56.7</td>\n",
       "      <td>45.5</td>\n",
       "      <td>34.1</td>\n",
       "      <td>53.6</td>\n",
       "      <td>NaN</td>\n",
       "    </tr>\n",
       "    <tr>\n",
       "      <th>3</th>\n",
       "      <td>1871</td>\n",
       "      <td>28.3</td>\n",
       "      <td>30.2</td>\n",
       "      <td>44.2</td>\n",
       "      <td>52.0</td>\n",
       "      <td>60.4</td>\n",
       "      <td>68.2</td>\n",
       "      <td>72.3</td>\n",
       "      <td>73.6</td>\n",
       "      <td>60.8</td>\n",
       "      <td>55.6</td>\n",
       "      <td>38.8</td>\n",
       "      <td>29.2</td>\n",
       "      <td>51.1</td>\n",
       "      <td>NaN</td>\n",
       "    </tr>\n",
       "    <tr>\n",
       "      <th>4</th>\n",
       "      <td>1872</td>\n",
       "      <td>28.8</td>\n",
       "      <td>29.9</td>\n",
       "      <td>30.5</td>\n",
       "      <td>49.4</td>\n",
       "      <td>61.5</td>\n",
       "      <td>71.2</td>\n",
       "      <td>77.5</td>\n",
       "      <td>75.6</td>\n",
       "      <td>66.4</td>\n",
       "      <td>53.2</td>\n",
       "      <td>41.0</td>\n",
       "      <td>26.7</td>\n",
       "      <td>51.0</td>\n",
       "      <td>NaN</td>\n",
       "    </tr>\n",
       "    <tr>\n",
       "      <th>5</th>\n",
       "      <td>1873</td>\n",
       "      <td>28.6</td>\n",
       "      <td>29.5</td>\n",
       "      <td>35.7</td>\n",
       "      <td>46.7</td>\n",
       "      <td>58.8</td>\n",
       "      <td>70.3</td>\n",
       "      <td>75.4</td>\n",
       "      <td>72.0</td>\n",
       "      <td>65.4</td>\n",
       "      <td>55.8</td>\n",
       "      <td>37.0</td>\n",
       "      <td>36.5</td>\n",
       "      <td>51.0</td>\n",
       "      <td>NaN</td>\n",
       "    </tr>\n",
       "  </tbody>\n",
       "</table>\n",
       "</div>"
      ],
      "text/plain": [
       "0  YEAR   JAN   FEB   MAR   APR   MAY   JUN   JUL   AUG   SEP   OCT   NOV  \\\n",
       "1  1869  35.1  34.5  34.8  49.2  57.7  69.3  72.8  71.8  65.6  50.9  40.3   \n",
       "2  1870  37.5  31.3  34.1  50.7  60.9  72.9  76.6  75.3  67.6  56.7  45.5   \n",
       "3  1871  28.3  30.2  44.2  52.0  60.4  68.2  72.3  73.6  60.8  55.6  38.8   \n",
       "4  1872  28.8  29.9  30.5  49.4  61.5  71.2  77.5  75.6  66.4  53.2  41.0   \n",
       "5  1873  28.6  29.5  35.7  46.7  58.8  70.3  75.4  72.0  65.4  55.8  37.0   \n",
       "\n",
       "0   DEC ANNUAL  NaN  \n",
       "1  34.7   51.4  NaN  \n",
       "2  34.1   53.6  NaN  \n",
       "3  29.2   51.1  NaN  \n",
       "4  26.7   51.0  NaN  \n",
       "5  36.5   51.0  NaN  "
      ]
     },
     "execution_count": 601,
     "metadata": {},
     "output_type": "execute_result"
    }
   ],
   "source": [
    "dftemp.columns = dftemp.iloc[0]\n",
    "dftemp = dftemp.drop(0, axis = 0)\n",
    "dftemp.head()"
   ]
  },
  {
   "cell_type": "markdown",
   "id": "4b264c2c",
   "metadata": {},
   "source": [
    "Let's make sure nothings wrong with both our datasets! See if any data is missing."
   ]
  },
  {
   "cell_type": "code",
   "execution_count": 602,
   "id": "7cd369ee",
   "metadata": {},
   "outputs": [
    {
     "data": {
      "text/plain": [
       "<AxesSubplot:xlabel='0'>"
      ]
     },
     "execution_count": 602,
     "metadata": {},
     "output_type": "execute_result"
    },
    {
     "data": {
      "image/png": "[encoded data removed]",
      "text/plain": [
       "<Figure size 432x288 with 1 Axes>"
      ]
     },
     "metadata": {
      "needs_background": "light"
     },
     "output_type": "display_data"
    }
   ],
   "source": [
    "sns.heatmap(dftemp.isnull(),yticklabels=False,cbar=False,cmap='viridis')"
   ]
  },
  {
   "cell_type": "markdown",
   "id": "d417a6c6",
   "metadata": {},
   "source": [
    "Ok, we are good to go! Let's start by creating a new dataset that features solely the columns we want to use as our target features in predicting Janurary's anamoly.\n",
    "Let's start by creating a dataset that contains the temp. anamoly (using the entire data as a baseline) and rainfall from September to December, therefore a total of 8 column features.\n",
    "We need to start by defining the baseline temp. for each month and subtract the actual temp. that month from the baseline."
   ]
  },
  {
   "cell_type": "code",
   "execution_count": 603,
   "id": "01899439",
   "metadata": {},
   "outputs": [
    {
     "name": "stdout",
     "output_type": "stream",
     "text": [
      "<class 'pandas.core.frame.DataFrame'>\n",
      "Int64Index: 152 entries, 1 to 152\n",
      "Data columns (total 15 columns):\n",
      " #   Column  Non-Null Count  Dtype  \n",
      "---  ------  --------------  -----  \n",
      " 0   YEAR    152 non-null    object \n",
      " 1   JAN     152 non-null    object \n",
      " 2   FEB     152 non-null    object \n",
      " 3   MAR     152 non-null    object \n",
      " 4   APR     152 non-null    object \n",
      " 5   MAY     152 non-null    object \n",
      " 6   JUN     152 non-null    object \n",
      " 7   JUL     152 non-null    object \n",
      " 8   AUG     152 non-null    object \n",
      " 9   SEP     152 non-null    object \n",
      " 10  OCT     152 non-null    object \n",
      " 11  NOV     152 non-null    object \n",
      " 12  DEC     152 non-null    object \n",
      " 13  ANNUAL  152 non-null    object \n",
      " 14  nan     0 non-null      float64\n",
      "dtypes: float64(1), object(14)\n",
      "memory usage: 19.0+ KB\n"
     ]
    }
   ],
   "source": [
    "dftemp.info()"
   ]
  },
  {
   "cell_type": "code",
   "execution_count": 604,
   "id": "c0395440",
   "metadata": {},
   "outputs": [
    {
     "name": "stdout",
     "output_type": "stream",
     "text": [
      "<class 'pandas.core.frame.DataFrame'>\n",
      "Int64Index: 152 entries, 1 to 152\n",
      "Data columns (total 15 columns):\n",
      " #   Column  Non-Null Count  Dtype  \n",
      "---  ------  --------------  -----  \n",
      " 0   YEAR    152 non-null    float64\n",
      " 1   JAN     152 non-null    float64\n",
      " 2   FEB     152 non-null    float64\n",
      " 3   MAR     152 non-null    float64\n",
      " 4   APR     152 non-null    float64\n",
      " 5   MAY     152 non-null    float64\n",
      " 6   JUN     152 non-null    float64\n",
      " 7   JUL     152 non-null    float64\n",
      " 8   AUG     152 non-null    float64\n",
      " 9   SEP     152 non-null    float64\n",
      " 10  OCT     152 non-null    float64\n",
      " 11  NOV     152 non-null    float64\n",
      " 12  DEC     152 non-null    float64\n",
      " 13  ANNUAL  152 non-null    object \n",
      " 14  nan     0 non-null      float64\n",
      "dtypes: float64(14), object(1)\n",
      "memory usage: 19.0+ KB\n"
     ]
    }
   ],
   "source": [
    "for i in np.linspace(0,12,13):\n",
    "    i = i.astype(int)\n",
    "    dftemp.iloc[:,i] = dftemp.iloc[:,i].astype(float)\n",
    "dftemp.info()"
   ]
  },
  {
   "cell_type": "code",
   "execution_count": 605,
   "id": "a65db050",
   "metadata": {},
   "outputs": [
    {
     "data": {
      "text/plain": [
       "[71.03223684210526,\n",
       " 76.24144736842105,\n",
       " 74.62828947368423,\n",
       " 67.9453947368421,\n",
       " 57.12302631578948,\n",
       " 46.242763157894714,\n",
       " 36.02565789473687]"
      ]
     },
     "execution_count": 605,
     "metadata": {},
     "output_type": "execute_result"
    }
   ],
   "source": [
    "baseline = []\n",
    "for i in np.linspace(6,12,7):\n",
    "    i = i.astype(int)\n",
    "    baseline.append(dftemp.iloc[:,i].mean())\n",
    "baseline"
   ]
  },
  {
   "cell_type": "markdown",
   "id": "c4afc2b0",
   "metadata": {},
   "source": [
    "Now let's build our new dataset consisting of the columns we want!"
   ]
  },
  {
   "cell_type": "code",
   "execution_count": 606,
   "id": "2dd5dde7",
   "metadata": {},
   "outputs": [
    {
     "data": {
      "text/html": [
       "<div>\n",
       "<style scoped>\n",
       "    .dataframe tbody tr th:only-of-type {\n",
       "        vertical-align: middle;\n",
       "    }\n",
       "\n",
       "    .dataframe tbody tr th {\n",
       "        vertical-align: top;\n",
       "    }\n",
       "\n",
       "    .dataframe thead th {\n",
       "        text-align: right;\n",
       "    }\n",
       "</style>\n",
       "<table border=\"1\" class=\"dataframe\">\n",
       "  <thead>\n",
       "    <tr style=\"text-align: right;\">\n",
       "      <th></th>\n",
       "      <th>YEAR</th>\n",
       "      <th>JUN</th>\n",
       "      <th>JUL</th>\n",
       "      <th>AUG</th>\n",
       "      <th>SEP</th>\n",
       "      <th>OCT</th>\n",
       "      <th>NOV</th>\n",
       "      <th>DEC</th>\n",
       "    </tr>\n",
       "  </thead>\n",
       "  <tbody>\n",
       "    <tr>\n",
       "      <th>1</th>\n",
       "      <td>1869.0</td>\n",
       "      <td>-1.732237</td>\n",
       "      <td>-3.441447</td>\n",
       "      <td>-2.828289</td>\n",
       "      <td>-2.345395</td>\n",
       "      <td>-6.223026</td>\n",
       "      <td>-5.942763</td>\n",
       "      <td>-1.325658</td>\n",
       "    </tr>\n",
       "    <tr>\n",
       "      <th>2</th>\n",
       "      <td>1870.0</td>\n",
       "      <td>1.867763</td>\n",
       "      <td>0.358553</td>\n",
       "      <td>0.671711</td>\n",
       "      <td>-0.345395</td>\n",
       "      <td>-0.423026</td>\n",
       "      <td>-0.742763</td>\n",
       "      <td>-1.925658</td>\n",
       "    </tr>\n",
       "    <tr>\n",
       "      <th>3</th>\n",
       "      <td>1871.0</td>\n",
       "      <td>-2.832237</td>\n",
       "      <td>-3.941447</td>\n",
       "      <td>-1.028289</td>\n",
       "      <td>-7.145395</td>\n",
       "      <td>-1.523026</td>\n",
       "      <td>-7.442763</td>\n",
       "      <td>-6.825658</td>\n",
       "    </tr>\n",
       "    <tr>\n",
       "      <th>4</th>\n",
       "      <td>1872.0</td>\n",
       "      <td>0.167763</td>\n",
       "      <td>1.258553</td>\n",
       "      <td>0.971711</td>\n",
       "      <td>-1.545395</td>\n",
       "      <td>-3.923026</td>\n",
       "      <td>-5.242763</td>\n",
       "      <td>-9.325658</td>\n",
       "    </tr>\n",
       "    <tr>\n",
       "      <th>5</th>\n",
       "      <td>1873.0</td>\n",
       "      <td>-0.732237</td>\n",
       "      <td>-0.841447</td>\n",
       "      <td>-2.628289</td>\n",
       "      <td>-2.545395</td>\n",
       "      <td>-1.323026</td>\n",
       "      <td>-9.242763</td>\n",
       "      <td>0.474342</td>\n",
       "    </tr>\n",
       "  </tbody>\n",
       "</table>\n",
       "</div>"
      ],
      "text/plain": [
       "     YEAR       JUN       JUL       AUG       SEP       OCT       NOV  \\\n",
       "1  1869.0 -1.732237 -3.441447 -2.828289 -2.345395 -6.223026 -5.942763   \n",
       "2  1870.0  1.867763  0.358553  0.671711 -0.345395 -0.423026 -0.742763   \n",
       "3  1871.0 -2.832237 -3.941447 -1.028289 -7.145395 -1.523026 -7.442763   \n",
       "4  1872.0  0.167763  1.258553  0.971711 -1.545395 -3.923026 -5.242763   \n",
       "5  1873.0 -0.732237 -0.841447 -2.628289 -2.545395 -1.323026 -9.242763   \n",
       "\n",
       "        DEC  \n",
       "1 -1.325658  \n",
       "2 -1.925658  \n",
       "3 -6.825658  \n",
       "4 -9.325658  \n",
       "5  0.474342  "
      ]
     },
     "execution_count": 606,
     "metadata": {},
     "output_type": "execute_result"
    }
   ],
   "source": [
    "tempmodel = pd.DataFrame(dftemp.iloc[:,0].head(-1))\n",
    "for i in np.linspace(6,12,7):\n",
    "    i = i.astype(int)\n",
    "    d1 = pd.DataFrame(dftemp.iloc[:,i].head(-1) - baseline[i-6])\n",
    "    tempmodel = tempmodel.join(d1)\n",
    "tempmodel.head()"
   ]
  },
  {
   "cell_type": "markdown",
   "id": "a7e0851a",
   "metadata": {},
   "source": [
    "Great, now let's create 1 last column; the output! In this case, it will be a binary column of whether the following Janurary was below (0) or above (1) normal. Let's create it!"
   ]
  },
  {
   "cell_type": "code",
   "execution_count": 607,
   "id": "3b591d32",
   "metadata": {},
   "outputs": [
    {
     "data": {
      "text/html": [
       "<div>\n",
       "<style scoped>\n",
       "    .dataframe tbody tr th:only-of-type {\n",
       "        vertical-align: middle;\n",
       "    }\n",
       "\n",
       "    .dataframe tbody tr th {\n",
       "        vertical-align: top;\n",
       "    }\n",
       "\n",
       "    .dataframe thead th {\n",
       "        text-align: right;\n",
       "    }\n",
       "</style>\n",
       "<table border=\"1\" class=\"dataframe\">\n",
       "  <thead>\n",
       "    <tr style=\"text-align: right;\">\n",
       "      <th></th>\n",
       "      <th>YEAR</th>\n",
       "      <th>JUN</th>\n",
       "      <th>JUL</th>\n",
       "      <th>AUG</th>\n",
       "      <th>SEP</th>\n",
       "      <th>OCT</th>\n",
       "      <th>NOV</th>\n",
       "      <th>DEC</th>\n",
       "      <th>JAN</th>\n",
       "    </tr>\n",
       "  </thead>\n",
       "  <tbody>\n",
       "    <tr>\n",
       "      <th>1</th>\n",
       "      <td>1869.0</td>\n",
       "      <td>-1.732237</td>\n",
       "      <td>-3.441447</td>\n",
       "      <td>-2.828289</td>\n",
       "      <td>-2.345395</td>\n",
       "      <td>-6.223026</td>\n",
       "      <td>-5.942763</td>\n",
       "      <td>-1.325658</td>\n",
       "      <td>1</td>\n",
       "    </tr>\n",
       "    <tr>\n",
       "      <th>2</th>\n",
       "      <td>1870.0</td>\n",
       "      <td>1.867763</td>\n",
       "      <td>0.358553</td>\n",
       "      <td>0.671711</td>\n",
       "      <td>-0.345395</td>\n",
       "      <td>-0.423026</td>\n",
       "      <td>-0.742763</td>\n",
       "      <td>-1.925658</td>\n",
       "      <td>0</td>\n",
       "    </tr>\n",
       "    <tr>\n",
       "      <th>3</th>\n",
       "      <td>1871.0</td>\n",
       "      <td>-2.832237</td>\n",
       "      <td>-3.941447</td>\n",
       "      <td>-1.028289</td>\n",
       "      <td>-7.145395</td>\n",
       "      <td>-1.523026</td>\n",
       "      <td>-7.442763</td>\n",
       "      <td>-6.825658</td>\n",
       "      <td>0</td>\n",
       "    </tr>\n",
       "    <tr>\n",
       "      <th>4</th>\n",
       "      <td>1872.0</td>\n",
       "      <td>0.167763</td>\n",
       "      <td>1.258553</td>\n",
       "      <td>0.971711</td>\n",
       "      <td>-1.545395</td>\n",
       "      <td>-3.923026</td>\n",
       "      <td>-5.242763</td>\n",
       "      <td>-9.325658</td>\n",
       "      <td>0</td>\n",
       "    </tr>\n",
       "    <tr>\n",
       "      <th>5</th>\n",
       "      <td>1873.0</td>\n",
       "      <td>-0.732237</td>\n",
       "      <td>-0.841447</td>\n",
       "      <td>-2.628289</td>\n",
       "      <td>-2.545395</td>\n",
       "      <td>-1.323026</td>\n",
       "      <td>-9.242763</td>\n",
       "      <td>0.474342</td>\n",
       "      <td>1</td>\n",
       "    </tr>\n",
       "  </tbody>\n",
       "</table>\n",
       "</div>"
      ],
      "text/plain": [
       "     YEAR       JUN       JUL       AUG       SEP       OCT       NOV  \\\n",
       "1  1869.0 -1.732237 -3.441447 -2.828289 -2.345395 -6.223026 -5.942763   \n",
       "2  1870.0  1.867763  0.358553  0.671711 -0.345395 -0.423026 -0.742763   \n",
       "3  1871.0 -2.832237 -3.941447 -1.028289 -7.145395 -1.523026 -7.442763   \n",
       "4  1872.0  0.167763  1.258553  0.971711 -1.545395 -3.923026 -5.242763   \n",
       "5  1873.0 -0.732237 -0.841447 -2.628289 -2.545395 -1.323026 -9.242763   \n",
       "\n",
       "        DEC  JAN  \n",
       "1 -1.325658    1  \n",
       "2 -1.925658    0  \n",
       "3 -6.825658    0  \n",
       "4 -9.325658    0  \n",
       "5  0.474342    1  "
      ]
     },
     "execution_count": 607,
     "metadata": {},
     "output_type": "execute_result"
    }
   ],
   "source": [
    "tempmodel = tempmodel.join(pd.DataFrame(dftemp.iloc[:,1].shift(-1) - dftemp.iloc[:,1].shift(-1).mean()), rsuffix = 'JAN')\n",
    "for i in np.linspace(0 , len(tempmodel['JAN'])-1 , 151):\n",
    "    i = i.astype(int)\n",
    "    if tempmodel['JAN'].iloc[i] > 0:\n",
    "        tempmodel['JAN'].iloc[i] = 1\n",
    "    else:\n",
    "        tempmodel['JAN'].iloc[i] = 0\n",
    "tempmodel['JAN'] = tempmodel['JAN'].astype(int)\n",
    "tempmodel.head()"
   ]
  },
  {
   "cell_type": "markdown",
   "id": "2e9802bb",
   "metadata": {},
   "source": [
    "We now have our dataset!! Let's see if we can predict whether Janurary will be below or above normal!!\n",
    "\n",
    "But first, let's see if any of the months are useful in predicting the outcome of Janurary. "
   ]
  },
  {
   "cell_type": "code",
   "execution_count": 608,
   "id": "829160ab",
   "metadata": {},
   "outputs": [
    {
     "data": {
      "text/plain": [
       "<AxesSubplot:>"
      ]
     },
     "execution_count": 608,
     "metadata": {},
     "output_type": "execute_result"
    },
    {
     "data": {
      "image/png": "[encoded data removed]",
      "text/plain": [
       "<Figure size 720x432 with 2 Axes>"
      ]
     },
     "metadata": {
      "needs_background": "light"
     },
     "output_type": "display_data"
    }
   ],
   "source": [
    "plt.figure(figsize = (10,6))\n",
    "sns.heatmap(tempmodel.corr(), annot = True)"
   ]
  },
  {
   "cell_type": "markdown",
   "id": "6d6f2b94",
   "metadata": {},
   "source": [
    "Let's do some insight; you have the highest chance of correctly predicting the overall temperature of August based on July's conditions, out of any month used to predict its corresponding month.\n",
    "After that it's:\n",
    "\n",
    "Predicting December based on November\n",
    "Predicting September based on August\n",
    "Predicting Janurary based on December\n",
    "Predicting July based on June\n",
    "Predicting October based on September\n",
    "Predicting November based on October\n",
    "\n",
    "Also by correlating each month by year, you can see global warming is real; November is warming up the fastest, followed by August and December. Interestingly, Janurary is the lowest. \n",
    "\n",
    "Want to use how hot this summer was to predict how cold/hot Janurary will be? That won't work, as the R-values are too low. Let's drop those, along with Sept.\n"
   ]
  },
  {
   "cell_type": "code",
   "execution_count": 609,
   "id": "d10270ad",
   "metadata": {},
   "outputs": [
    {
     "data": {
      "text/html": [
       "<div>\n",
       "<style scoped>\n",
       "    .dataframe tbody tr th:only-of-type {\n",
       "        vertical-align: middle;\n",
       "    }\n",
       "\n",
       "    .dataframe tbody tr th {\n",
       "        vertical-align: top;\n",
       "    }\n",
       "\n",
       "    .dataframe thead th {\n",
       "        text-align: right;\n",
       "    }\n",
       "</style>\n",
       "<table border=\"1\" class=\"dataframe\">\n",
       "  <thead>\n",
       "    <tr style=\"text-align: right;\">\n",
       "      <th></th>\n",
       "      <th>YEAR</th>\n",
       "      <th>OCT</th>\n",
       "      <th>NOV</th>\n",
       "      <th>DEC</th>\n",
       "      <th>JAN</th>\n",
       "    </tr>\n",
       "  </thead>\n",
       "  <tbody>\n",
       "    <tr>\n",
       "      <th>1</th>\n",
       "      <td>1869.0</td>\n",
       "      <td>-6.223026</td>\n",
       "      <td>-5.942763</td>\n",
       "      <td>-1.325658</td>\n",
       "      <td>1</td>\n",
       "    </tr>\n",
       "    <tr>\n",
       "      <th>2</th>\n",
       "      <td>1870.0</td>\n",
       "      <td>-0.423026</td>\n",
       "      <td>-0.742763</td>\n",
       "      <td>-1.925658</td>\n",
       "      <td>0</td>\n",
       "    </tr>\n",
       "    <tr>\n",
       "      <th>3</th>\n",
       "      <td>1871.0</td>\n",
       "      <td>-1.523026</td>\n",
       "      <td>-7.442763</td>\n",
       "      <td>-6.825658</td>\n",
       "      <td>0</td>\n",
       "    </tr>\n",
       "    <tr>\n",
       "      <th>4</th>\n",
       "      <td>1872.0</td>\n",
       "      <td>-3.923026</td>\n",
       "      <td>-5.242763</td>\n",
       "      <td>-9.325658</td>\n",
       "      <td>0</td>\n",
       "    </tr>\n",
       "    <tr>\n",
       "      <th>5</th>\n",
       "      <td>1873.0</td>\n",
       "      <td>-1.323026</td>\n",
       "      <td>-9.242763</td>\n",
       "      <td>0.474342</td>\n",
       "      <td>1</td>\n",
       "    </tr>\n",
       "  </tbody>\n",
       "</table>\n",
       "</div>"
      ],
      "text/plain": [
       "     YEAR       OCT       NOV       DEC  JAN\n",
       "1  1869.0 -6.223026 -5.942763 -1.325658    1\n",
       "2  1870.0 -0.423026 -0.742763 -1.925658    0\n",
       "3  1871.0 -1.523026 -7.442763 -6.825658    0\n",
       "4  1872.0 -3.923026 -5.242763 -9.325658    0\n",
       "5  1873.0 -1.323026 -9.242763  0.474342    1"
      ]
     },
     "execution_count": 609,
     "metadata": {},
     "output_type": "execute_result"
    }
   ],
   "source": [
    "tempmodel = tempmodel.drop( columns = ['JUN', 'JUL', 'AUG', 'SEP'])\n",
    "tempmodel.head()"
   ]
  },
  {
   "cell_type": "markdown",
   "id": "dbc7e8ce",
   "metadata": {},
   "source": [
    "Let's start the prediction!"
   ]
  },
  {
   "cell_type": "markdown",
   "id": "33a60931",
   "metadata": {},
   "source": [
    "Since we are trying to predict a binary output, we will use supervised machine learning techniques that spit out categorical outputs. We will apply:\n",
    "-Logisitic Regression\n",
    "-K-nearest Neighbors\n",
    "-Decision Tree + Random Forest\n",
    "-Support Vector Machine"
   ]
  },
  {
   "cell_type": "code",
   "execution_count": 610,
   "id": "14e12247",
   "metadata": {},
   "outputs": [],
   "source": [
    "from sklearn.model_selection import train_test_split"
   ]
  },
  {
   "cell_type": "code",
   "execution_count": 611,
   "id": "56ff1f33",
   "metadata": {},
   "outputs": [],
   "source": [
    "x_train, x_test, y_train, y_test = train_test_split(tempmodel.drop( columns = ['JAN'], axis = 1), tempmodel['JAN'], test_size = 0.4, random_state = 101)"
   ]
  },
  {
   "cell_type": "code",
   "execution_count": 612,
   "id": "88c445a0",
   "metadata": {},
   "outputs": [
    {
     "data": {
      "text/plain": [
       "LogisticRegression()"
      ]
     },
     "execution_count": 612,
     "metadata": {},
     "output_type": "execute_result"
    }
   ],
   "source": [
    "from sklearn.linear_model import LogisticRegression\n",
    "logmodel = LogisticRegression()\n",
    "logmodel.fit(x_train, y_train)"
   ]
  },
  {
   "cell_type": "code",
   "execution_count": 613,
   "id": "2833d3e1",
   "metadata": {},
   "outputs": [],
   "source": [
    "predictions = logmodel.predict(x_test)"
   ]
  },
  {
   "cell_type": "code",
   "execution_count": 614,
   "id": "255e5a70",
   "metadata": {},
   "outputs": [
    {
     "name": "stdout",
     "output_type": "stream",
     "text": [
      "              precision    recall  f1-score   support\n",
      "\n",
      "           0       0.63      0.73      0.68        30\n",
      "           1       0.69      0.58      0.63        31\n",
      "\n",
      "    accuracy                           0.66        61\n",
      "   macro avg       0.66      0.66      0.65        61\n",
      "weighted avg       0.66      0.66      0.65        61\n",
      "\n"
     ]
    }
   ],
   "source": [
    "from sklearn.metrics import classification_report, confusion_matrix\n",
    "print(classification_report(y_test,predictions))"
   ]
  },
  {
   "cell_type": "markdown",
   "id": "fa43a081",
   "metadata": {},
   "source": [
    "Got an F-1 Score of 0.62 using the logisitic model....let's try with other models."
   ]
  },
  {
   "cell_type": "code",
   "execution_count": 615,
   "id": "86fd0b40",
   "metadata": {},
   "outputs": [],
   "source": [
    "from sklearn.neighbors import KNeighborsClassifier"
   ]
  },
  {
   "cell_type": "code",
   "execution_count": 616,
   "id": "010c5444",
   "metadata": {},
   "outputs": [],
   "source": [
    "knn = KNeighborsClassifier(n_neighbors = 1)"
   ]
  },
  {
   "cell_type": "code",
   "execution_count": 617,
   "id": "49951f83",
   "metadata": {},
   "outputs": [
    {
     "data": {
      "text/plain": [
       "KNeighborsClassifier(n_neighbors=1)"
      ]
     },
     "execution_count": 617,
     "metadata": {},
     "output_type": "execute_result"
    }
   ],
   "source": [
    "knn.fit(x_train,y_train)"
   ]
  },
  {
   "cell_type": "code",
   "execution_count": 618,
   "id": "9609078c",
   "metadata": {},
   "outputs": [],
   "source": [
    "predictions = knn.predict(x_test)"
   ]
  },
  {
   "cell_type": "code",
   "execution_count": 619,
   "id": "fdab9ea8",
   "metadata": {},
   "outputs": [
    {
     "name": "stdout",
     "output_type": "stream",
     "text": [
      "              precision    recall  f1-score   support\n",
      "\n",
      "           0       0.49      0.67      0.56        30\n",
      "           1       0.50      0.32      0.39        31\n",
      "\n",
      "    accuracy                           0.49        61\n",
      "   macro avg       0.49      0.49      0.48        61\n",
      "weighted avg       0.49      0.49      0.48        61\n",
      "\n"
     ]
    }
   ],
   "source": [
    "print(classification_report(y_test, predictions))"
   ]
  },
  {
   "cell_type": "markdown",
   "id": "cece53bb",
   "metadata": {},
   "source": [
    "Still not good. Can we optimize this model by finding the right k-value?"
   ]
  },
  {
   "cell_type": "code",
   "execution_count": 620,
   "id": "3af57d13",
   "metadata": {},
   "outputs": [],
   "source": [
    "error_rate = []\n",
    "\n",
    "# Will take some time\n",
    "for i in range(1,50):\n",
    "    \n",
    "    knn = KNeighborsClassifier(n_neighbors=i)\n",
    "    knn.fit(x_train,y_train)\n",
    "    pred_i = knn.predict(x_test)\n",
    "    error_rate.append(np.mean(pred_i != y_test))"
   ]
  },
  {
   "cell_type": "code",
   "execution_count": 621,
   "id": "f72f60ea",
   "metadata": {},
   "outputs": [
    {
     "data": {
      "text/plain": [
       "Text(0, 0.5, 'Error Rate')"
      ]
     },
     "execution_count": 621,
     "metadata": {},
     "output_type": "execute_result"
    },
    {
     "data": {
      "image/png": "[encoded data removed]",
      "text/plain": [
       "<Figure size 720x432 with 1 Axes>"
      ]
     },
     "metadata": {
      "needs_background": "light"
     },
     "output_type": "display_data"
    }
   ],
   "source": [
    "plt.figure(figsize=(10,6))\n",
    "plt.grid()\n",
    "plt.plot(range(1,50),error_rate,color='blue', linestyle='dashed', marker='o',\n",
    "         markerfacecolor='red', markersize=10)\n",
    "plt.title('Error Rate vs. K Value')\n",
    "plt.xlabel('K')\n",
    "plt.ylabel('Error Rate')"
   ]
  },
  {
   "cell_type": "code",
   "execution_count": 622,
   "id": "22296f12",
   "metadata": {},
   "outputs": [
    {
     "name": "stdout",
     "output_type": "stream",
     "text": [
      "              precision    recall  f1-score   support\n",
      "\n",
      "           0       0.54      0.87      0.67        30\n",
      "           1       0.69      0.29      0.41        31\n",
      "\n",
      "    accuracy                           0.57        61\n",
      "   macro avg       0.62      0.58      0.54        61\n",
      "weighted avg       0.62      0.57      0.54        61\n",
      "\n"
     ]
    }
   ],
   "source": [
    "knn = KNeighborsClassifier(n_neighbors = 44)\n",
    "knn.fit(x_train,y_train)\n",
    "predictions = knn.predict(x_test)\n",
    "print(classification_report(y_test, predictions))"
   ]
  },
  {
   "cell_type": "markdown",
   "id": "ae160153",
   "metadata": {},
   "source": [
    "WE get an f-1 score of 0.67, which is better than the logisitic model, but still not that great. Let's try more models. "
   ]
  },
  {
   "cell_type": "code",
   "execution_count": 623,
   "id": "81fd6e3f",
   "metadata": {},
   "outputs": [],
   "source": [
    "from sklearn.tree import DecisionTreeClassifier\n",
    "dtree = DecisionTreeClassifier()"
   ]
  },
  {
   "cell_type": "code",
   "execution_count": 624,
   "id": "fff4e784",
   "metadata": {},
   "outputs": [
    {
     "data": {
      "text/plain": [
       "DecisionTreeClassifier()"
      ]
     },
     "execution_count": 624,
     "metadata": {},
     "output_type": "execute_result"
    }
   ],
   "source": [
    "dtree.fit(x_train, y_train)"
   ]
  },
  {
   "cell_type": "code",
   "execution_count": 625,
   "id": "6d8ed45c",
   "metadata": {},
   "outputs": [],
   "source": [
    "predictions = dtree.predict(x_test)"
   ]
  },
  {
   "cell_type": "code",
   "execution_count": 626,
   "id": "f6077b77",
   "metadata": {},
   "outputs": [
    {
     "name": "stdout",
     "output_type": "stream",
     "text": [
      "              precision    recall  f1-score   support\n",
      "\n",
      "           0       0.35      0.37      0.36        30\n",
      "           1       0.37      0.35      0.36        31\n",
      "\n",
      "    accuracy                           0.36        61\n",
      "   macro avg       0.36      0.36      0.36        61\n",
      "weighted avg       0.36      0.36      0.36        61\n",
      "\n"
     ]
    }
   ],
   "source": [
    "print(classification_report(y_test, predictions))"
   ]
  },
  {
   "cell_type": "code",
   "execution_count": 627,
   "id": "f65ed5c2",
   "metadata": {},
   "outputs": [],
   "source": [
    "from sklearn.ensemble import RandomForestClassifier"
   ]
  },
  {
   "cell_type": "code",
   "execution_count": 628,
   "id": "a2e59374",
   "metadata": {},
   "outputs": [
    {
     "name": "stdout",
     "output_type": "stream",
     "text": [
      "              precision    recall  f1-score   support\n",
      "\n",
      "           0       0.45      0.47      0.46        30\n",
      "           1       0.47      0.45      0.46        31\n",
      "\n",
      "    accuracy                           0.46        61\n",
      "   macro avg       0.46      0.46      0.46        61\n",
      "weighted avg       0.46      0.46      0.46        61\n",
      "\n"
     ]
    }
   ],
   "source": [
    "rfc = RandomForestClassifier(n_estimators= 11)\n",
    "rfc.fit(x_train, y_train)\n",
    "predictions = rfc.predict(x_test)\n",
    "print(classification_report(y_test, predictions))"
   ]
  },
  {
   "cell_type": "markdown",
   "id": "2cb24138",
   "metadata": {},
   "source": [
    "Not good at all. What is the minimum number of trees needed then?"
   ]
  },
  {
   "cell_type": "code",
   "execution_count": 629,
   "id": "a9a6a2d1",
   "metadata": {},
   "outputs": [],
   "source": [
    "error_rate = []\n",
    "\n",
    "# Will take some time\n",
    "for i in range(1,50):\n",
    "    \n",
    "    rfc = RandomForestClassifier(n_estimators = i)\n",
    "    rfc.fit(x_train,y_train)\n",
    "    predictions = rfc.predict(x_test)\n",
    "    error_rate.append(np.mean(predictions != y_test))"
   ]
  },
  {
   "cell_type": "code",
   "execution_count": 630,
   "id": "5a5ec4b4",
   "metadata": {},
   "outputs": [
    {
     "data": {
      "text/plain": [
       "Text(0, 0.5, 'Error Rate')"
      ]
     },
     "execution_count": 630,
     "metadata": {},
     "output_type": "execute_result"
    },
    {
     "data": {
      "image/png": "[encoded data removed]",
      "text/plain": [
       "<Figure size 720x432 with 1 Axes>"
      ]
     },
     "metadata": {
      "needs_background": "light"
     },
     "output_type": "display_data"
    }
   ],
   "source": [
    "plt.figure(figsize=(10,6))\n",
    "plt.grid()\n",
    "plt.plot(range(1,50),error_rate,color='blue', linestyle='dashed', marker='o',\n",
    "         markerfacecolor='red', markersize=10)\n",
    "plt.title('Error Rate vs. number of trees')\n",
    "plt.xlabel('# of trees')\n",
    "plt.ylabel('Error Rate')"
   ]
  },
  {
   "cell_type": "code",
   "execution_count": 631,
   "id": "7484d87f",
   "metadata": {},
   "outputs": [
    {
     "name": "stdout",
     "output_type": "stream",
     "text": [
      "              precision    recall  f1-score   support\n",
      "\n",
      "           0       0.47      0.57      0.52        30\n",
      "           1       0.48      0.39      0.43        31\n",
      "\n",
      "    accuracy                           0.48        61\n",
      "   macro avg       0.48      0.48      0.47        61\n",
      "weighted avg       0.48      0.48      0.47        61\n",
      "\n"
     ]
    }
   ],
   "source": [
    "rfc = RandomForestClassifier(n_estimators= 20)\n",
    "rfc.fit(x_train, y_train)\n",
    "predictions = rfc.predict(x_test)\n",
    "print(classification_report(y_test, predictions))"
   ]
  },
  {
   "cell_type": "markdown",
   "id": "bb360b83",
   "metadata": {},
   "source": [
    "What about for support vector machine?"
   ]
  },
  {
   "cell_type": "code",
   "execution_count": 632,
   "id": "cc3aa72e",
   "metadata": {},
   "outputs": [],
   "source": [
    "from sklearn.svm import SVC"
   ]
  },
  {
   "cell_type": "code",
   "execution_count": 633,
   "id": "53893180",
   "metadata": {},
   "outputs": [],
   "source": [
    "model = SVC()"
   ]
  },
  {
   "cell_type": "code",
   "execution_count": 634,
   "id": "eda7742f",
   "metadata": {},
   "outputs": [
    {
     "data": {
      "text/plain": [
       "SVC()"
      ]
     },
     "execution_count": 634,
     "metadata": {},
     "output_type": "execute_result"
    }
   ],
   "source": [
    "model.fit(x_train,y_train)"
   ]
  },
  {
   "cell_type": "code",
   "execution_count": 635,
   "id": "af1a13c6",
   "metadata": {},
   "outputs": [],
   "source": [
    "predictions = model.predict(x_test)"
   ]
  },
  {
   "cell_type": "code",
   "execution_count": 636,
   "id": "6afab99a",
   "metadata": {},
   "outputs": [
    {
     "name": "stdout",
     "output_type": "stream",
     "text": [
      "              precision    recall  f1-score   support\n",
      "\n",
      "           0       0.49      1.00      0.66        30\n",
      "           1       0.00      0.00      0.00        31\n",
      "\n",
      "    accuracy                           0.49        61\n",
      "   macro avg       0.25      0.50      0.33        61\n",
      "weighted avg       0.24      0.49      0.32        61\n",
      "\n"
     ]
    },
    {
     "name": "stderr",
     "output_type": "stream",
     "text": [
      "C:\\Users\\jason\\anaconda3\\lib\\site-packages\\sklearn\\metrics\\_classification.py:1308: UndefinedMetricWarning: Precision and F-score are ill-defined and being set to 0.0 in labels with no predicted samples. Use `zero_division` parameter to control this behavior.\n",
      "  _warn_prf(average, modifier, msg_start, len(result))\n",
      "C:\\Users\\jason\\anaconda3\\lib\\site-packages\\sklearn\\metrics\\_classification.py:1308: UndefinedMetricWarning: Precision and F-score are ill-defined and being set to 0.0 in labels with no predicted samples. Use `zero_division` parameter to control this behavior.\n",
      "  _warn_prf(average, modifier, msg_start, len(result))\n",
      "C:\\Users\\jason\\anaconda3\\lib\\site-packages\\sklearn\\metrics\\_classification.py:1308: UndefinedMetricWarning: Precision and F-score are ill-defined and being set to 0.0 in labels with no predicted samples. Use `zero_division` parameter to control this behavior.\n",
      "  _warn_prf(average, modifier, msg_start, len(result))\n"
     ]
    }
   ],
   "source": [
    "print(classification_report(y_test, predictions))"
   ]
  },
  {
   "cell_type": "code",
   "execution_count": 637,
   "id": "fa9fd9de",
   "metadata": {},
   "outputs": [],
   "source": [
    "param_grid = {'C': [0.1,1,10,100,1000], 'gamma': [1,0.1,0.01,0.001,0.0001], 'kernel': ['rbf']}\n",
    "from sklearn.model_selection import GridSearchCV"
   ]
  },
  {
   "cell_type": "code",
   "execution_count": 638,
   "id": "fcf0ac1a",
   "metadata": {},
   "outputs": [],
   "source": [
    "grid = GridSearchCV(SVC(), param_grid, refit=True, verbose=3)"
   ]
  },
  {
   "cell_type": "code",
   "execution_count": 639,
   "id": "492630a4",
   "metadata": {},
   "outputs": [
    {
     "name": "stdout",
     "output_type": "stream",
     "text": [
      "Fitting 5 folds for each of 25 candidates, totalling 125 fits\n",
      "[CV 1/5] END ........C=0.1, gamma=1, kernel=rbf;, score=0.500 total time=   0.0s\n",
      "[CV 2/5] END ........C=0.1, gamma=1, kernel=rbf;, score=0.500 total time=   0.0s\n",
      "[CV 3/5] END ........C=0.1, gamma=1, kernel=rbf;, score=0.500 total time=   0.0s\n",
      "[CV 4/5] END ........C=0.1, gamma=1, kernel=rbf;, score=0.556 total time=   0.0s\n",
      "[CV 5/5] END ........C=0.1, gamma=1, kernel=rbf;, score=0.556 total time=   0.0s\n",
      "[CV 1/5] END ......C=0.1, gamma=0.1, kernel=rbf;, score=0.500 total time=   0.0s\n",
      "[CV 2/5] END ......C=0.1, gamma=0.1, kernel=rbf;, score=0.500 total time=   0.0s\n",
      "[CV 3/5] END ......C=0.1, gamma=0.1, kernel=rbf;, score=0.500 total time=   0.0s\n",
      "[CV 4/5] END ......C=0.1, gamma=0.1, kernel=rbf;, score=0.556 total time=   0.0s\n",
      "[CV 5/5] END ......C=0.1, gamma=0.1, kernel=rbf;, score=0.556 total time=   0.0s\n",
      "[CV 1/5] END .....C=0.1, gamma=0.01, kernel=rbf;, score=0.500 total time=   0.0s\n",
      "[CV 2/5] END .....C=0.1, gamma=0.01, kernel=rbf;, score=0.500 total time=   0.0s\n",
      "[CV 3/5] END .....C=0.1, gamma=0.01, kernel=rbf;, score=0.500 total time=   0.0s\n",
      "[CV 4/5] END .....C=0.1, gamma=0.01, kernel=rbf;, score=0.556 total time=   0.0s\n",
      "[CV 5/5] END .....C=0.1, gamma=0.01, kernel=rbf;, score=0.556 total time=   0.0s\n",
      "[CV 1/5] END ....C=0.1, gamma=0.001, kernel=rbf;, score=0.500 total time=   0.0s\n",
      "[CV 2/5] END ....C=0.1, gamma=0.001, kernel=rbf;, score=0.500 total time=   0.0s\n",
      "[CV 3/5] END ....C=0.1, gamma=0.001, kernel=rbf;, score=0.500 total time=   0.0s\n",
      "[CV 4/5] END ....C=0.1, gamma=0.001, kernel=rbf;, score=0.389 total time=   0.0s\n",
      "[CV 5/5] END ....C=0.1, gamma=0.001, kernel=rbf;, score=0.556 total time=   0.0s\n",
      "[CV 1/5] END ...C=0.1, gamma=0.0001, kernel=rbf;, score=0.500 total time=   0.0s\n",
      "[CV 2/5] END ...C=0.1, gamma=0.0001, kernel=rbf;, score=0.500 total time=   0.0s\n",
      "[CV 3/5] END ...C=0.1, gamma=0.0001, kernel=rbf;, score=0.500 total time=   0.0s\n",
      "[CV 4/5] END ...C=0.1, gamma=0.0001, kernel=rbf;, score=0.556 total time=   0.0s\n",
      "[CV 5/5] END ...C=0.1, gamma=0.0001, kernel=rbf;, score=0.556 total time=   0.0s\n",
      "[CV 1/5] END ..........C=1, gamma=1, kernel=rbf;, score=0.500 total time=   0.0s\n",
      "[CV 2/5] END ..........C=1, gamma=1, kernel=rbf;, score=0.500 total time=   0.0s\n",
      "[CV 3/5] END ..........C=1, gamma=1, kernel=rbf;, score=0.500 total time=   0.0s\n",
      "[CV 4/5] END ..........C=1, gamma=1, kernel=rbf;, score=0.556 total time=   0.0s\n",
      "[CV 5/5] END ..........C=1, gamma=1, kernel=rbf;, score=0.556 total time=   0.0s\n",
      "[CV 1/5] END ........C=1, gamma=0.1, kernel=rbf;, score=0.667 total time=   0.0s\n",
      "[CV 2/5] END ........C=1, gamma=0.1, kernel=rbf;, score=0.556 total time=   0.0s\n",
      "[CV 3/5] END ........C=1, gamma=0.1, kernel=rbf;, score=0.500 total time=   0.0s\n",
      "[CV 4/5] END ........C=1, gamma=0.1, kernel=rbf;, score=0.611 total time=   0.0s\n",
      "[CV 5/5] END ........C=1, gamma=0.1, kernel=rbf;, score=0.500 total time=   0.0s\n",
      "[CV 1/5] END .......C=1, gamma=0.01, kernel=rbf;, score=0.667 total time=   0.0s\n",
      "[CV 2/5] END .......C=1, gamma=0.01, kernel=rbf;, score=0.444 total time=   0.0s\n",
      "[CV 3/5] END .......C=1, gamma=0.01, kernel=rbf;, score=0.444 total time=   0.0s\n",
      "[CV 4/5] END .......C=1, gamma=0.01, kernel=rbf;, score=0.500 total time=   0.0s\n",
      "[CV 5/5] END .......C=1, gamma=0.01, kernel=rbf;, score=0.500 total time=   0.0s\n",
      "[CV 1/5] END ......C=1, gamma=0.001, kernel=rbf;, score=0.556 total time=   0.0s\n",
      "[CV 2/5] END ......C=1, gamma=0.001, kernel=rbf;, score=0.389 total time=   0.0s\n",
      "[CV 3/5] END ......C=1, gamma=0.001, kernel=rbf;, score=0.667 total time=   0.0s\n",
      "[CV 4/5] END ......C=1, gamma=0.001, kernel=rbf;, score=0.444 total time=   0.0s\n",
      "[CV 5/5] END ......C=1, gamma=0.001, kernel=rbf;, score=0.778 total time=   0.0s\n",
      "[CV 1/5] END .....C=1, gamma=0.0001, kernel=rbf;, score=0.611 total time=   0.0s\n",
      "[CV 2/5] END .....C=1, gamma=0.0001, kernel=rbf;, score=0.500 total time=   0.0s\n",
      "[CV 3/5] END .....C=1, gamma=0.0001, kernel=rbf;, score=0.500 total time=   0.0s\n",
      "[CV 4/5] END .....C=1, gamma=0.0001, kernel=rbf;, score=0.389 total time=   0.0s\n",
      "[CV 5/5] END .....C=1, gamma=0.0001, kernel=rbf;, score=0.556 total time=   0.0s\n",
      "[CV 1/5] END .........C=10, gamma=1, kernel=rbf;, score=0.500 total time=   0.0s\n",
      "[CV 2/5] END .........C=10, gamma=1, kernel=rbf;, score=0.500 total time=   0.0s\n",
      "[CV 3/5] END .........C=10, gamma=1, kernel=rbf;, score=0.500 total time=   0.0s\n",
      "[CV 4/5] END .........C=10, gamma=1, kernel=rbf;, score=0.556 total time=   0.0s\n",
      "[CV 5/5] END .........C=10, gamma=1, kernel=rbf;, score=0.556 total time=   0.0s\n",
      "[CV 1/5] END .......C=10, gamma=0.1, kernel=rbf;, score=0.667 total time=   0.0s\n",
      "[CV 2/5] END .......C=10, gamma=0.1, kernel=rbf;, score=0.667 total time=   0.0s\n",
      "[CV 3/5] END .......C=10, gamma=0.1, kernel=rbf;, score=0.556 total time=   0.0s\n",
      "[CV 4/5] END .......C=10, gamma=0.1, kernel=rbf;, score=0.611 total time=   0.0s\n",
      "[CV 5/5] END .......C=10, gamma=0.1, kernel=rbf;, score=0.556 total time=   0.0s\n",
      "[CV 1/5] END ......C=10, gamma=0.01, kernel=rbf;, score=0.667 total time=   0.0s\n",
      "[CV 2/5] END ......C=10, gamma=0.01, kernel=rbf;, score=0.444 total time=   0.0s\n",
      "[CV 3/5] END ......C=10, gamma=0.01, kernel=rbf;, score=0.389 total time=   0.0s\n",
      "[CV 4/5] END ......C=10, gamma=0.01, kernel=rbf;, score=0.556 total time=   0.0s\n",
      "[CV 5/5] END ......C=10, gamma=0.01, kernel=rbf;, score=0.500 total time=   0.0s\n",
      "[CV 1/5] END .....C=10, gamma=0.001, kernel=rbf;, score=0.722 total time=   0.0s\n",
      "[CV 2/5] END .....C=10, gamma=0.001, kernel=rbf;, score=0.556 total time=   0.0s\n",
      "[CV 3/5] END .....C=10, gamma=0.001, kernel=rbf;, score=0.556 total time=   0.0s\n",
      "[CV 4/5] END .....C=10, gamma=0.001, kernel=rbf;, score=0.389 total time=   0.0s\n",
      "[CV 5/5] END .....C=10, gamma=0.001, kernel=rbf;, score=0.667 total time=   0.0s\n",
      "[CV 1/5] END ....C=10, gamma=0.0001, kernel=rbf;, score=0.556 total time=   0.0s\n",
      "[CV 2/5] END ....C=10, gamma=0.0001, kernel=rbf;, score=0.500 total time=   0.0s\n",
      "[CV 3/5] END ....C=10, gamma=0.0001, kernel=rbf;, score=0.833 total time=   0.0s\n",
      "[CV 4/5] END ....C=10, gamma=0.0001, kernel=rbf;, score=0.444 total time=   0.0s\n",
      "[CV 5/5] END ....C=10, gamma=0.0001, kernel=rbf;, score=0.722 total time=   0.0s\n",
      "[CV 1/5] END ........C=100, gamma=1, kernel=rbf;, score=0.500 total time=   0.0s\n",
      "[CV 2/5] END ........C=100, gamma=1, kernel=rbf;, score=0.500 total time=   0.0s\n",
      "[CV 3/5] END ........C=100, gamma=1, kernel=rbf;, score=0.500 total time=   0.0s\n",
      "[CV 4/5] END ........C=100, gamma=1, kernel=rbf;, score=0.556 total time=   0.0s\n",
      "[CV 5/5] END ........C=100, gamma=1, kernel=rbf;, score=0.556 total time=   0.0s\n",
      "[CV 1/5] END ......C=100, gamma=0.1, kernel=rbf;, score=0.667 total time=   0.0s\n",
      "[CV 2/5] END ......C=100, gamma=0.1, kernel=rbf;, score=0.667 total time=   0.0s\n",
      "[CV 3/5] END ......C=100, gamma=0.1, kernel=rbf;, score=0.556 total time=   0.0s\n",
      "[CV 4/5] END ......C=100, gamma=0.1, kernel=rbf;, score=0.611 total time=   0.0s\n",
      "[CV 5/5] END ......C=100, gamma=0.1, kernel=rbf;, score=0.556 total time=   0.0s\n",
      "[CV 1/5] END .....C=100, gamma=0.01, kernel=rbf;, score=0.611 total time=   0.0s\n",
      "[CV 2/5] END .....C=100, gamma=0.01, kernel=rbf;, score=0.500 total time=   0.0s\n",
      "[CV 3/5] END .....C=100, gamma=0.01, kernel=rbf;, score=0.333 total time=   0.0s\n",
      "[CV 4/5] END .....C=100, gamma=0.01, kernel=rbf;, score=0.556 total time=   0.0s\n",
      "[CV 5/5] END .....C=100, gamma=0.01, kernel=rbf;, score=0.444 total time=   0.0s\n",
      "[CV 1/5] END ....C=100, gamma=0.001, kernel=rbf;, score=0.667 total time=   0.0s\n",
      "[CV 2/5] END ....C=100, gamma=0.001, kernel=rbf;, score=0.667 total time=   0.0s\n",
      "[CV 3/5] END ....C=100, gamma=0.001, kernel=rbf;, score=0.500 total time=   0.0s\n",
      "[CV 4/5] END ....C=100, gamma=0.001, kernel=rbf;, score=0.444 total time=   0.0s\n",
      "[CV 5/5] END ....C=100, gamma=0.001, kernel=rbf;, score=0.611 total time=   0.0s\n",
      "[CV 1/5] END ...C=100, gamma=0.0001, kernel=rbf;, score=0.556 total time=   0.0s\n",
      "[CV 2/5] END ...C=100, gamma=0.0001, kernel=rbf;, score=0.556 total time=   0.0s\n",
      "[CV 3/5] END ...C=100, gamma=0.0001, kernel=rbf;, score=0.611 total time=   0.0s\n",
      "[CV 4/5] END ...C=100, gamma=0.0001, kernel=rbf;, score=0.444 total time=   0.0s\n",
      "[CV 5/5] END ...C=100, gamma=0.0001, kernel=rbf;, score=0.667 total time=   0.0s\n",
      "[CV 1/5] END .......C=1000, gamma=1, kernel=rbf;, score=0.500 total time=   0.0s\n",
      "[CV 2/5] END .......C=1000, gamma=1, kernel=rbf;, score=0.500 total time=   0.0s\n",
      "[CV 3/5] END .......C=1000, gamma=1, kernel=rbf;, score=0.500 total time=   0.0s\n",
      "[CV 4/5] END .......C=1000, gamma=1, kernel=rbf;, score=0.556 total time=   0.0s\n",
      "[CV 5/5] END .......C=1000, gamma=1, kernel=rbf;, score=0.556 total time=   0.0s\n"
     ]
    },
    {
     "name": "stdout",
     "output_type": "stream",
     "text": [
      "[CV 1/5] END .....C=1000, gamma=0.1, kernel=rbf;, score=0.667 total time=   0.0s\n",
      "[CV 2/5] END .....C=1000, gamma=0.1, kernel=rbf;, score=0.667 total time=   0.0s\n",
      "[CV 3/5] END .....C=1000, gamma=0.1, kernel=rbf;, score=0.556 total time=   0.0s\n",
      "[CV 4/5] END .....C=1000, gamma=0.1, kernel=rbf;, score=0.611 total time=   0.0s\n",
      "[CV 5/5] END .....C=1000, gamma=0.1, kernel=rbf;, score=0.556 total time=   0.0s\n",
      "[CV 1/5] END ....C=1000, gamma=0.01, kernel=rbf;, score=0.611 total time=   0.0s\n",
      "[CV 2/5] END ....C=1000, gamma=0.01, kernel=rbf;, score=0.500 total time=   0.0s\n",
      "[CV 3/5] END ....C=1000, gamma=0.01, kernel=rbf;, score=0.333 total time=   0.0s\n",
      "[CV 4/5] END ....C=1000, gamma=0.01, kernel=rbf;, score=0.556 total time=   0.0s\n",
      "[CV 5/5] END ....C=1000, gamma=0.01, kernel=rbf;, score=0.444 total time=   0.0s\n",
      "[CV 1/5] END ...C=1000, gamma=0.001, kernel=rbf;, score=0.556 total time=   0.0s\n",
      "[CV 2/5] END ...C=1000, gamma=0.001, kernel=rbf;, score=0.611 total time=   0.0s\n",
      "[CV 3/5] END ...C=1000, gamma=0.001, kernel=rbf;, score=0.389 total time=   0.0s\n",
      "[CV 4/5] END ...C=1000, gamma=0.001, kernel=rbf;, score=0.389 total time=   0.0s\n",
      "[CV 5/5] END ...C=1000, gamma=0.001, kernel=rbf;, score=0.611 total time=   0.0s\n",
      "[CV 1/5] END ..C=1000, gamma=0.0001, kernel=rbf;, score=0.722 total time=   0.0s\n",
      "[CV 2/5] END ..C=1000, gamma=0.0001, kernel=rbf;, score=0.556 total time=   0.0s\n",
      "[CV 3/5] END ..C=1000, gamma=0.0001, kernel=rbf;, score=0.556 total time=   0.0s\n",
      "[CV 4/5] END ..C=1000, gamma=0.0001, kernel=rbf;, score=0.389 total time=   0.0s\n",
      "[CV 5/5] END ..C=1000, gamma=0.0001, kernel=rbf;, score=0.833 total time=   0.0s\n"
     ]
    },
    {
     "data": {
      "text/plain": [
       "GridSearchCV(estimator=SVC(),\n",
       "             param_grid={'C': [0.1, 1, 10, 100, 1000],\n",
       "                         'gamma': [1, 0.1, 0.01, 0.001, 0.0001],\n",
       "                         'kernel': ['rbf']},\n",
       "             verbose=3)"
      ]
     },
     "execution_count": 639,
     "metadata": {},
     "output_type": "execute_result"
    }
   ],
   "source": [
    "grid.fit(x_train, y_train)"
   ]
  },
  {
   "cell_type": "code",
   "execution_count": 640,
   "id": "7ee4f7be",
   "metadata": {},
   "outputs": [
    {
     "data": {
      "text/plain": [
       "{'C': 1000, 'gamma': 0.0001, 'kernel': 'rbf'}"
      ]
     },
     "execution_count": 640,
     "metadata": {},
     "output_type": "execute_result"
    }
   ],
   "source": [
    "grid.best_params_"
   ]
  },
  {
   "cell_type": "code",
   "execution_count": 641,
   "id": "d32f86ad",
   "metadata": {},
   "outputs": [
    {
     "data": {
      "text/plain": [
       "SVC(C=1000, gamma=0.0001)"
      ]
     },
     "execution_count": 641,
     "metadata": {},
     "output_type": "execute_result"
    }
   ],
   "source": [
    "grid.best_estimator_"
   ]
  },
  {
   "cell_type": "code",
   "execution_count": 642,
   "id": "45ab26bd",
   "metadata": {},
   "outputs": [],
   "source": [
    "grid_predictions = grid.predict(x_test)"
   ]
  },
  {
   "cell_type": "code",
   "execution_count": 643,
   "id": "6e291318",
   "metadata": {},
   "outputs": [
    {
     "name": "stdout",
     "output_type": "stream",
     "text": [
      "              precision    recall  f1-score   support\n",
      "\n",
      "           0       0.51      0.70      0.59        30\n",
      "           1       0.55      0.35      0.43        31\n",
      "\n",
      "    accuracy                           0.52        61\n",
      "   macro avg       0.53      0.53      0.51        61\n",
      "weighted avg       0.53      0.52      0.51        61\n",
      "\n"
     ]
    }
   ],
   "source": [
    "print(classification_report(y_test, grid_predictions))"
   ]
  },
  {
   "cell_type": "markdown",
   "id": "364c819b",
   "metadata": {},
   "source": [
    "Not good enough at all. The highest f1-score we got was from the K Neighbors Classifier, where we got an f1-score of 0.67. We need to get more potentially useful data and figure out whether they are truly useful or not. "
   ]
  },
  {
   "cell_type": "markdown",
   "id": "0a7b6ded",
   "metadata": {},
   "source": [
    "From my weather knowledge, the prescence of El Nino/La Nina can influence the overall temperature in the wintertime."
   ]
  },
  {
   "cell_type": "code",
   "execution_count": 644,
   "id": "55d6a1b6",
   "metadata": {},
   "outputs": [
    {
     "data": {
      "text/html": [
       "<div>\n",
       "<style scoped>\n",
       "    .dataframe tbody tr th:only-of-type {\n",
       "        vertical-align: middle;\n",
       "    }\n",
       "\n",
       "    .dataframe tbody tr th {\n",
       "        vertical-align: top;\n",
       "    }\n",
       "\n",
       "    .dataframe thead th {\n",
       "        text-align: right;\n",
       "    }\n",
       "</style>\n",
       "<table border=\"1\" class=\"dataframe\">\n",
       "  <thead>\n",
       "    <tr style=\"text-align: right;\">\n",
       "      <th></th>\n",
       "      <th>Categorization</th>\n",
       "      <th>Year</th>\n",
       "      <th>Unnamed: 2</th>\n",
       "      <th>Unnamed: 3</th>\n",
       "      <th>Unnamed: 4</th>\n",
       "      <th>Unnamed: 5</th>\n",
       "      <th>Unnamed: 6</th>\n",
       "      <th>Unnamed: 7</th>\n",
       "      <th>Unnamed: 8</th>\n",
       "      <th>Unnamed: 9</th>\n",
       "      <th>Unnamed: 10</th>\n",
       "      <th>Unnamed: 11</th>\n",
       "      <th>Unnamed: 12</th>\n",
       "      <th>Unnamed: 13</th>\n",
       "      <th>Average</th>\n",
       "    </tr>\n",
       "  </thead>\n",
       "  <tbody>\n",
       "    <tr>\n",
       "      <th>0</th>\n",
       "      <td>Neutral</td>\n",
       "      <td>1950-1951</td>\n",
       "      <td>-0.5</td>\n",
       "      <td>-0.4</td>\n",
       "      <td>-0.4</td>\n",
       "      <td>-0.4</td>\n",
       "      <td>-0.6</td>\n",
       "      <td>-0.8</td>\n",
       "      <td>-0.8</td>\n",
       "      <td>-0.5</td>\n",
       "      <td>-0.2</td>\n",
       "      <td>0.2</td>\n",
       "      <td>0.4</td>\n",
       "      <td>0.6</td>\n",
       "      <td>-0.283333</td>\n",
       "    </tr>\n",
       "    <tr>\n",
       "      <th>1</th>\n",
       "      <td>ME</td>\n",
       "      <td>1951-1952</td>\n",
       "      <td>0.7</td>\n",
       "      <td>0.9</td>\n",
       "      <td>1.0</td>\n",
       "      <td>1.2</td>\n",
       "      <td>1.0</td>\n",
       "      <td>0.8</td>\n",
       "      <td>0.5</td>\n",
       "      <td>0.4</td>\n",
       "      <td>0.3</td>\n",
       "      <td>0.3</td>\n",
       "      <td>0.2</td>\n",
       "      <td>0.0</td>\n",
       "      <td>0.608333</td>\n",
       "    </tr>\n",
       "    <tr>\n",
       "      <th>2</th>\n",
       "      <td>WE</td>\n",
       "      <td>1952-1953</td>\n",
       "      <td>-0.1</td>\n",
       "      <td>0.0</td>\n",
       "      <td>0.2</td>\n",
       "      <td>0.1</td>\n",
       "      <td>0.0</td>\n",
       "      <td>0.1</td>\n",
       "      <td>0.4</td>\n",
       "      <td>0.6</td>\n",
       "      <td>0.6</td>\n",
       "      <td>0.7</td>\n",
       "      <td>0.8</td>\n",
       "      <td>0.8</td>\n",
       "      <td>0.350000</td>\n",
       "    </tr>\n",
       "    <tr>\n",
       "      <th>3</th>\n",
       "      <td>WE</td>\n",
       "      <td>1953-1954</td>\n",
       "      <td>0.7</td>\n",
       "      <td>0.7</td>\n",
       "      <td>0.8</td>\n",
       "      <td>0.8</td>\n",
       "      <td>0.8</td>\n",
       "      <td>0.8</td>\n",
       "      <td>0.8</td>\n",
       "      <td>0.5</td>\n",
       "      <td>0.0</td>\n",
       "      <td>-0.4</td>\n",
       "      <td>-0.5</td>\n",
       "      <td>-0.5</td>\n",
       "      <td>0.375000</td>\n",
       "    </tr>\n",
       "    <tr>\n",
       "      <th>4</th>\n",
       "      <td>WL</td>\n",
       "      <td>1954-1955</td>\n",
       "      <td>-0.6</td>\n",
       "      <td>-0.8</td>\n",
       "      <td>-0.9</td>\n",
       "      <td>-0.8</td>\n",
       "      <td>-0.7</td>\n",
       "      <td>-0.7</td>\n",
       "      <td>-0.7</td>\n",
       "      <td>-0.6</td>\n",
       "      <td>-0.7</td>\n",
       "      <td>-0.8</td>\n",
       "      <td>-0.8</td>\n",
       "      <td>-0.7</td>\n",
       "      <td>-0.733333</td>\n",
       "    </tr>\n",
       "  </tbody>\n",
       "</table>\n",
       "</div>"
      ],
      "text/plain": [
       "  Categorization       Year  Unnamed: 2  Unnamed: 3  Unnamed: 4  Unnamed: 5  \\\n",
       "0        Neutral  1950-1951        -0.5        -0.4        -0.4        -0.4   \n",
       "1             ME  1951-1952         0.7         0.9         1.0         1.2   \n",
       "2             WE  1952-1953        -0.1         0.0         0.2         0.1   \n",
       "3             WE  1953-1954         0.7         0.7         0.8         0.8   \n",
       "4             WL  1954-1955        -0.6        -0.8        -0.9        -0.8   \n",
       "\n",
       "   Unnamed: 6  Unnamed: 7  Unnamed: 8  Unnamed: 9  Unnamed: 10  Unnamed: 11  \\\n",
       "0        -0.6        -0.8        -0.8        -0.5         -0.2          0.2   \n",
       "1         1.0         0.8         0.5         0.4          0.3          0.3   \n",
       "2         0.0         0.1         0.4         0.6          0.6          0.7   \n",
       "3         0.8         0.8         0.8         0.5          0.0         -0.4   \n",
       "4        -0.7        -0.7        -0.7        -0.6         -0.7         -0.8   \n",
       "\n",
       "   Unnamed: 12  Unnamed: 13   Average  \n",
       "0          0.4          0.6 -0.283333  \n",
       "1          0.2          0.0  0.608333  \n",
       "2          0.8          0.8  0.350000  \n",
       "3         -0.5         -0.5  0.375000  \n",
       "4         -0.8         -0.7 -0.733333  "
      ]
     },
     "execution_count": 644,
     "metadata": {},
     "output_type": "execute_result"
    }
   ],
   "source": [
    "seasurface = pd.read_csv('Sea Surface temp anamoly.csv')\n",
    "seasurface = seasurface.rename(columns = {'Unnamed: 0' : 'Categorization'})\n",
    "seasurface = seasurface.fillna(value = 'Neutral')\n",
    "seasurface.head()"
   ]
  },
  {
   "cell_type": "markdown",
   "id": "2f5697f9",
   "metadata": {},
   "source": [
    "Let's do some further analysis! The dataset has already classified whether an El Nino or a La Nina was present that year, and how strong or weak it was. "
   ]
  },
  {
   "cell_type": "code",
   "execution_count": 645,
   "id": "e22540a5",
   "metadata": {},
   "outputs": [
    {
     "data": {
      "text/plain": [
       "<AxesSubplot:ylabel='Categorization'>"
      ]
     },
     "execution_count": 645,
     "metadata": {},
     "output_type": "execute_result"
    },
    {
     "data": {
      "image/png": "[encoded data removed]",
      "text/plain": [
       "<Figure size 432x288 with 1 Axes>"
      ]
     },
     "metadata": {},
     "output_type": "display_data"
    }
   ],
   "source": [
    "seasurface['Categorization'].value_counts(normalize=True).plot.pie()"
   ]
  },
  {
   "cell_type": "markdown",
   "id": "d62bd7c4",
   "metadata": {},
   "source": [
    "Let's clean up the data a little bit."
   ]
  },
  {
   "cell_type": "code",
   "execution_count": 646,
   "id": "5022d22d",
   "metadata": {},
   "outputs": [
    {
     "data": {
      "text/html": [
       "<div>\n",
       "<style scoped>\n",
       "    .dataframe tbody tr th:only-of-type {\n",
       "        vertical-align: middle;\n",
       "    }\n",
       "\n",
       "    .dataframe tbody tr th {\n",
       "        vertical-align: top;\n",
       "    }\n",
       "\n",
       "    .dataframe thead th {\n",
       "        text-align: right;\n",
       "    }\n",
       "</style>\n",
       "<table border=\"1\" class=\"dataframe\">\n",
       "  <thead>\n",
       "    <tr style=\"text-align: right;\">\n",
       "      <th></th>\n",
       "      <th>Categorization</th>\n",
       "      <th>Year</th>\n",
       "      <th>Average</th>\n",
       "      <th>Actual Year</th>\n",
       "    </tr>\n",
       "  </thead>\n",
       "  <tbody>\n",
       "    <tr>\n",
       "      <th>0</th>\n",
       "      <td>Neutral</td>\n",
       "      <td>1950-1951</td>\n",
       "      <td>-0.283333</td>\n",
       "      <td>1951</td>\n",
       "    </tr>\n",
       "    <tr>\n",
       "      <th>1</th>\n",
       "      <td>ME</td>\n",
       "      <td>1951-1952</td>\n",
       "      <td>0.608333</td>\n",
       "      <td>1952</td>\n",
       "    </tr>\n",
       "    <tr>\n",
       "      <th>2</th>\n",
       "      <td>WE</td>\n",
       "      <td>1952-1953</td>\n",
       "      <td>0.350000</td>\n",
       "      <td>1953</td>\n",
       "    </tr>\n",
       "    <tr>\n",
       "      <th>3</th>\n",
       "      <td>WE</td>\n",
       "      <td>1953-1954</td>\n",
       "      <td>0.375000</td>\n",
       "      <td>1954</td>\n",
       "    </tr>\n",
       "    <tr>\n",
       "      <th>4</th>\n",
       "      <td>WL</td>\n",
       "      <td>1954-1955</td>\n",
       "      <td>-0.733333</td>\n",
       "      <td>1955</td>\n",
       "    </tr>\n",
       "  </tbody>\n",
       "</table>\n",
       "</div>"
      ],
      "text/plain": [
       "  Categorization       Year   Average Actual Year\n",
       "0        Neutral  1950-1951 -0.283333        1951\n",
       "1             ME  1951-1952  0.608333        1952\n",
       "2             WE  1952-1953  0.350000        1953\n",
       "3             WE  1953-1954  0.375000        1954\n",
       "4             WL  1954-1955 -0.733333        1955"
      ]
     },
     "execution_count": 646,
     "metadata": {},
     "output_type": "execute_result"
    }
   ],
   "source": [
    "seasurface = seasurface.drop(columns = seasurface.iloc[:,2:14])\n",
    "seasurface['Actual Year'] = seasurface.apply(lambda row: row.Year.split('-',1)[1], axis = 1)\n",
    "seasurface = seasurface.iloc[:69:,]\n",
    "seasurface.head()"
   ]
  },
  {
   "cell_type": "code",
   "execution_count": 647,
   "id": "88ebd97e",
   "metadata": {},
   "outputs": [
    {
     "data": {
      "text/plain": [
       "Text(0.5, 0, 'Temp. Anamoly')"
      ]
     },
     "execution_count": 647,
     "metadata": {},
     "output_type": "execute_result"
    },
    {
     "data": {
      "image/png": "[encoded data removed]",
      "text/plain": [
       "<Figure size 432x288 with 1 Axes>"
      ]
     },
     "metadata": {
      "needs_background": "light"
     },
     "output_type": "display_data"
    }
   ],
   "source": [
    "seasurface.groupby('Categorization')['Average'].mean().plot.barh()\n",
    "plt.xlabel('Temp. Anamoly')"
   ]
  },
  {
   "cell_type": "markdown",
   "id": "240a128c",
   "metadata": {},
   "source": [
    "Now let's add the portion of the average that we have to the existing \"tempmodel\" dataframe. We'll have to create a new dataframe that will only have years 1951-2020."
   ]
  },
  {
   "cell_type": "code",
   "execution_count": 648,
   "id": "27f85721",
   "metadata": {},
   "outputs": [],
   "source": [
    "tempmodel['YEAR'] = tempmodel['YEAR'].astype(int)\n",
    "tempmodelshort = tempmodel.iloc[82:151:,]"
   ]
  },
  {
   "cell_type": "code",
   "execution_count": 649,
   "id": "c3b653de",
   "metadata": {},
   "outputs": [
    {
     "name": "stderr",
     "output_type": "stream",
     "text": [
      "C:\\Users\\jason\\AppData\\Local\\Temp/ipykernel_21636/2960516727.py:1: SettingWithCopyWarning: \n",
      "A value is trying to be set on a copy of a slice from a DataFrame.\n",
      "Try using .loc[row_indexer,col_indexer] = value instead\n",
      "\n",
      "See the caveats in the documentation: https://pandas.pydata.org/pandas-docs/stable/user_guide/indexing.html#returning-a-view-versus-a-copy\n",
      "  tempmodelshort['Sea Surface Temp'] = seasurface['Average'].values\n",
      "C:\\Users\\jason\\AppData\\Local\\Temp/ipykernel_21636/2960516727.py:2: SettingWithCopyWarning: \n",
      "A value is trying to be set on a copy of a slice from a DataFrame.\n",
      "Try using .loc[row_indexer,col_indexer] = value instead\n",
      "\n",
      "See the caveats in the documentation: https://pandas.pydata.org/pandas-docs/stable/user_guide/indexing.html#returning-a-view-versus-a-copy\n",
      "  tempmodelshort['Categorization'] = seasurface['Categorization'].values\n"
     ]
    },
    {
     "data": {
      "text/html": [
       "<div>\n",
       "<style scoped>\n",
       "    .dataframe tbody tr th:only-of-type {\n",
       "        vertical-align: middle;\n",
       "    }\n",
       "\n",
       "    .dataframe tbody tr th {\n",
       "        vertical-align: top;\n",
       "    }\n",
       "\n",
       "    .dataframe thead th {\n",
       "        text-align: right;\n",
       "    }\n",
       "</style>\n",
       "<table border=\"1\" class=\"dataframe\">\n",
       "  <thead>\n",
       "    <tr style=\"text-align: right;\">\n",
       "      <th></th>\n",
       "      <th>YEAR</th>\n",
       "      <th>OCT</th>\n",
       "      <th>NOV</th>\n",
       "      <th>DEC</th>\n",
       "      <th>JAN</th>\n",
       "      <th>Sea Surface Temp</th>\n",
       "      <th>Categorization</th>\n",
       "    </tr>\n",
       "  </thead>\n",
       "  <tbody>\n",
       "    <tr>\n",
       "      <th>83</th>\n",
       "      <td>1951</td>\n",
       "      <td>1.476974</td>\n",
       "      <td>-2.742763</td>\n",
       "      <td>2.574342</td>\n",
       "      <td>1</td>\n",
       "      <td>-0.283333</td>\n",
       "      <td>Neutral</td>\n",
       "    </tr>\n",
       "    <tr>\n",
       "      <th>84</th>\n",
       "      <td>1952</td>\n",
       "      <td>-1.423026</td>\n",
       "      <td>2.357237</td>\n",
       "      <td>2.374342</td>\n",
       "      <td>1</td>\n",
       "      <td>0.608333</td>\n",
       "      <td>ME</td>\n",
       "    </tr>\n",
       "    <tr>\n",
       "      <th>85</th>\n",
       "      <td>1953</td>\n",
       "      <td>3.576974</td>\n",
       "      <td>3.457237</td>\n",
       "      <td>5.274342</td>\n",
       "      <td>0</td>\n",
       "      <td>0.350000</td>\n",
       "      <td>WE</td>\n",
       "    </tr>\n",
       "    <tr>\n",
       "      <th>86</th>\n",
       "      <td>1954</td>\n",
       "      <td>4.576974</td>\n",
       "      <td>0.157237</td>\n",
       "      <td>-0.125658</td>\n",
       "      <td>0</td>\n",
       "      <td>0.375000</td>\n",
       "      <td>WE</td>\n",
       "    </tr>\n",
       "    <tr>\n",
       "      <th>87</th>\n",
       "      <td>1955</td>\n",
       "      <td>2.676974</td>\n",
       "      <td>-1.942763</td>\n",
       "      <td>-6.325658</td>\n",
       "      <td>0</td>\n",
       "      <td>-0.733333</td>\n",
       "      <td>WL</td>\n",
       "    </tr>\n",
       "  </tbody>\n",
       "</table>\n",
       "</div>"
      ],
      "text/plain": [
       "    YEAR       OCT       NOV       DEC  JAN  Sea Surface Temp Categorization\n",
       "83  1951  1.476974 -2.742763  2.574342    1         -0.283333        Neutral\n",
       "84  1952 -1.423026  2.357237  2.374342    1          0.608333             ME\n",
       "85  1953  3.576974  3.457237  5.274342    0          0.350000             WE\n",
       "86  1954  4.576974  0.157237 -0.125658    0          0.375000             WE\n",
       "87  1955  2.676974 -1.942763 -6.325658    0         -0.733333             WL"
      ]
     },
     "execution_count": 649,
     "metadata": {},
     "output_type": "execute_result"
    }
   ],
   "source": [
    "tempmodelshort['Sea Surface Temp'] = seasurface['Average'].values\n",
    "tempmodelshort['Categorization'] = seasurface['Categorization'].values\n",
    "tempmodelshort.head()"
   ]
  },
  {
   "cell_type": "markdown",
   "id": "889e3135",
   "metadata": {},
   "source": [
    "Let's see how the frequency of below/above normal Janurarys stack up per sea surface categorization."
   ]
  },
  {
   "cell_type": "code",
   "execution_count": 650,
   "id": "1d03c6f7",
   "metadata": {},
   "outputs": [
    {
     "data": {
      "text/plain": [
       "Text(0, 0.5, 'Number of occurances')"
      ]
     },
     "execution_count": 650,
     "metadata": {},
     "output_type": "execute_result"
    },
    {
     "data": {
      "image/png": "[encoded data removed]",
      "text/plain": [
       "<Figure size 576x360 with 1 Axes>"
      ]
     },
     "metadata": {
      "needs_background": "light"
     },
     "output_type": "display_data"
    }
   ],
   "source": [
    "plt.figure(figsize = (8,5))\n",
    "plt.grid()\n",
    "sns.countplot(x='Categorization', hue = 'JAN', data = tempmodelshort)\n",
    "plt.legend(['below normal Jan', 'above normal Jan'])\n",
    "plt.ylabel('Number of occurances')"
   ]
  },
  {
   "cell_type": "markdown",
   "id": "734e97d6",
   "metadata": {},
   "source": [
    "We see that in a ME year, Janurary is most likely to be below normal. Let's further explore the neutral area. Let's see if there are patterns involving Nov. and Dec. if we filter to just the neutral area."
   ]
  },
  {
   "cell_type": "code",
   "execution_count": 652,
   "id": "8dc6edde",
   "metadata": {},
   "outputs": [
    {
     "data": {
      "image/png": "[encoded data removed]",
      "text/plain": [
       "<Figure size 864x360 with 1 Axes>"
      ]
     },
     "metadata": {
      "needs_background": "light"
     },
     "output_type": "display_data"
    }
   ],
   "source": [
    "plt.figure(figsize = (12,5))\n",
    "plt.grid()\n",
    "sns.boxplot(x = 'Categorization', y= 'NOV', hue = 'JAN', data = tempmodelshort[(tempmodelshort['Categorization'].isin(['Neutral','WE','WL']))])\n",
    "plt.ylabel('Nov Temp Anamoly')\n",
    "plt.tight_layout()"
   ]
  },
  {
   "cell_type": "code",
   "execution_count": 653,
   "id": "37ecc66e",
   "metadata": {},
   "outputs": [
    {
     "data": {
      "image/png": "[encoded data removed]",
      "text/plain": [
       "<Figure size 864x360 with 1 Axes>"
      ]
     },
     "metadata": {
      "needs_background": "light"
     },
     "output_type": "display_data"
    }
   ],
   "source": [
    "plt.figure(figsize = (12,5))\n",
    "plt.grid()\n",
    "sns.boxplot(x = 'Categorization', y= 'DEC', hue = 'JAN', data = tempmodelshort[(tempmodelshort['Categorization'].isin(['Neutral','WE','WL']))])\n",
    "plt.ylabel('Dec Temp Anamoly')\n",
    "plt.tight_layout()"
   ]
  },
  {
   "cell_type": "markdown",
   "id": "38ebd4a3",
   "metadata": {},
   "source": [
    "what insights can we take from here? We were only interested in the statistics for a Neutral status, a weak El Nino status, and a weak La Nina status, as we have lots of data for those 3 phases only. Only in a weak el Nino phase is a warmer than normal November more likely to lead a below normal Janurary than a colder than normal November, but just slightly. In all 3 phases, if December is warmer than normal, than Janurary is also likely to be above normal as well. Now let's also look into the Diurnal temp. range."
   ]
  },
  {
   "cell_type": "markdown",
   "id": "bcaea82c",
   "metadata": {},
   "source": [
    "October data is pretty useless in predicting Janurary data. Let's remove that one."
   ]
  },
  {
   "cell_type": "code",
   "execution_count": 654,
   "id": "0989bafd",
   "metadata": {},
   "outputs": [
    {
     "data": {
      "text/html": [
       "<div>\n",
       "<style scoped>\n",
       "    .dataframe tbody tr th:only-of-type {\n",
       "        vertical-align: middle;\n",
       "    }\n",
       "\n",
       "    .dataframe tbody tr th {\n",
       "        vertical-align: top;\n",
       "    }\n",
       "\n",
       "    .dataframe thead th {\n",
       "        text-align: right;\n",
       "    }\n",
       "</style>\n",
       "<table border=\"1\" class=\"dataframe\">\n",
       "  <thead>\n",
       "    <tr style=\"text-align: right;\">\n",
       "      <th></th>\n",
       "      <th>YEAR</th>\n",
       "      <th>NOV</th>\n",
       "      <th>DEC</th>\n",
       "      <th>JAN</th>\n",
       "      <th>Sea Surface Temp</th>\n",
       "      <th>Categorization</th>\n",
       "    </tr>\n",
       "  </thead>\n",
       "  <tbody>\n",
       "    <tr>\n",
       "      <th>83</th>\n",
       "      <td>1951</td>\n",
       "      <td>-2.742763</td>\n",
       "      <td>2.574342</td>\n",
       "      <td>1</td>\n",
       "      <td>-0.283333</td>\n",
       "      <td>Neutral</td>\n",
       "    </tr>\n",
       "    <tr>\n",
       "      <th>84</th>\n",
       "      <td>1952</td>\n",
       "      <td>2.357237</td>\n",
       "      <td>2.374342</td>\n",
       "      <td>1</td>\n",
       "      <td>0.608333</td>\n",
       "      <td>ME</td>\n",
       "    </tr>\n",
       "    <tr>\n",
       "      <th>85</th>\n",
       "      <td>1953</td>\n",
       "      <td>3.457237</td>\n",
       "      <td>5.274342</td>\n",
       "      <td>0</td>\n",
       "      <td>0.350000</td>\n",
       "      <td>WE</td>\n",
       "    </tr>\n",
       "    <tr>\n",
       "      <th>86</th>\n",
       "      <td>1954</td>\n",
       "      <td>0.157237</td>\n",
       "      <td>-0.125658</td>\n",
       "      <td>0</td>\n",
       "      <td>0.375000</td>\n",
       "      <td>WE</td>\n",
       "    </tr>\n",
       "    <tr>\n",
       "      <th>87</th>\n",
       "      <td>1955</td>\n",
       "      <td>-1.942763</td>\n",
       "      <td>-6.325658</td>\n",
       "      <td>0</td>\n",
       "      <td>-0.733333</td>\n",
       "      <td>WL</td>\n",
       "    </tr>\n",
       "  </tbody>\n",
       "</table>\n",
       "</div>"
      ],
      "text/plain": [
       "    YEAR       NOV       DEC  JAN  Sea Surface Temp Categorization\n",
       "83  1951 -2.742763  2.574342    1         -0.283333        Neutral\n",
       "84  1952  2.357237  2.374342    1          0.608333             ME\n",
       "85  1953  3.457237  5.274342    0          0.350000             WE\n",
       "86  1954  0.157237 -0.125658    0          0.375000             WE\n",
       "87  1955 -1.942763 -6.325658    0         -0.733333             WL"
      ]
     },
     "execution_count": 654,
     "metadata": {},
     "output_type": "execute_result"
    }
   ],
   "source": [
    "tempmodelshort = tempmodelshort.drop(columns = 'OCT')\n",
    "tempmodelshort.head()"
   ]
  },
  {
   "cell_type": "markdown",
   "id": "3273d5bc",
   "metadata": {},
   "source": [
    "Let's next get the diurnal temp. variation for that month of that year "
   ]
  },
  {
   "cell_type": "code",
   "execution_count": 655,
   "id": "33919918",
   "metadata": {},
   "outputs": [
    {
     "name": "stdout",
     "output_type": "stream",
     "text": [
      "<class 'pandas.core.frame.DataFrame'>\n",
      "RangeIndex: 1837 entries, 0 to 1836\n",
      "Data columns (total 10 columns):\n",
      " #   Column             Non-Null Count  Dtype  \n",
      "---  ------             --------------  -----  \n",
      " 0   Year               1837 non-null   object \n",
      " 1   Highest Temp       1836 non-null   float64\n",
      " 2   Average High Temp  1836 non-null   float64\n",
      " 3   Average Low Temp   1836 non-null   float64\n",
      " 4   Lowest Temp        1836 non-null   float64\n",
      " 5   Rain               1837 non-null   float64\n",
      " 6   Snow               1831 non-null   float64\n",
      " 7   Precip Days        1837 non-null   int64  \n",
      " 8   Snow Days          1831 non-null   float64\n",
      " 9   Month              1837 non-null   object \n",
      "dtypes: float64(7), int64(1), object(2)\n",
      "memory usage: 143.6+ KB\n"
     ]
    }
   ],
   "source": [
    "tempbymonth = pd.read_csv(\"Central park temp data.csv\")\n",
    "tempbymonth['Month'] = tempbymonth.apply(lambda row: row.Year.split('-',1)[1], axis = 1)\n",
    "tempbymonth['Year'] = tempbymonth.apply(lambda row: row.Year.split('-',1)[0], axis = 1)\n",
    "tempbymonth.info()"
   ]
  },
  {
   "cell_type": "markdown",
   "id": "f319a3aa",
   "metadata": {},
   "source": [
    "Looks like we have missing data. We need to fill that in first. Let's first decide which columns we don't need."
   ]
  },
  {
   "cell_type": "code",
   "execution_count": 656,
   "id": "9cd36724",
   "metadata": {},
   "outputs": [],
   "source": [
    "tempbymonth = tempbymonth.drop(columns = ['Highest Temp', 'Lowest Temp', 'Rain', 'Snow', 'Snow Days'])"
   ]
  },
  {
   "cell_type": "code",
   "execution_count": 657,
   "id": "9658e73e",
   "metadata": {},
   "outputs": [
    {
     "name": "stdout",
     "output_type": "stream",
     "text": [
      "<class 'pandas.core.frame.DataFrame'>\n",
      "RangeIndex: 1837 entries, 0 to 1836\n",
      "Data columns (total 5 columns):\n",
      " #   Column             Non-Null Count  Dtype  \n",
      "---  ------             --------------  -----  \n",
      " 0   Year               1837 non-null   object \n",
      " 1   Average High Temp  1836 non-null   float64\n",
      " 2   Average Low Temp   1836 non-null   float64\n",
      " 3   Precip Days        1837 non-null   int64  \n",
      " 4   Month              1837 non-null   object \n",
      "dtypes: float64(2), int64(1), object(2)\n",
      "memory usage: 71.9+ KB\n"
     ]
    }
   ],
   "source": [
    "tempbymonth.info()"
   ]
  },
  {
   "cell_type": "markdown",
   "id": "dab45b0b",
   "metadata": {},
   "source": [
    "Fill in the missing data? Well since the missing data is for April, and we don't plan on using APril data for our prediction, we'll go ahead and remove that column."
   ]
  },
  {
   "cell_type": "code",
   "execution_count": 658,
   "id": "7a1f93d1",
   "metadata": {},
   "outputs": [],
   "source": [
    "tempbymonth = tempbymonth.drop(4, axis = 0)"
   ]
  },
  {
   "cell_type": "markdown",
   "id": "afca6d8b",
   "metadata": {},
   "source": [
    "Ok, let's go ahead and calculate the diurnal temp. variation for each month."
   ]
  },
  {
   "cell_type": "code",
   "execution_count": 659,
   "id": "283767db",
   "metadata": {},
   "outputs": [
    {
     "data": {
      "text/html": [
       "<div>\n",
       "<style scoped>\n",
       "    .dataframe tbody tr th:only-of-type {\n",
       "        vertical-align: middle;\n",
       "    }\n",
       "\n",
       "    .dataframe tbody tr th {\n",
       "        vertical-align: top;\n",
       "    }\n",
       "\n",
       "    .dataframe thead th {\n",
       "        text-align: right;\n",
       "    }\n",
       "</style>\n",
       "<table border=\"1\" class=\"dataframe\">\n",
       "  <thead>\n",
       "    <tr style=\"text-align: right;\">\n",
       "      <th></th>\n",
       "      <th>Year</th>\n",
       "      <th>Average High Temp</th>\n",
       "      <th>Average Low Temp</th>\n",
       "      <th>Precip Days</th>\n",
       "      <th>Month</th>\n",
       "      <th>Diurnal Range</th>\n",
       "    </tr>\n",
       "  </thead>\n",
       "  <tbody>\n",
       "    <tr>\n",
       "      <th>0</th>\n",
       "      <td>1869</td>\n",
       "      <td>4.2</td>\n",
       "      <td>-1.3</td>\n",
       "      <td>9</td>\n",
       "      <td>01</td>\n",
       "      <td>9.90</td>\n",
       "    </tr>\n",
       "    <tr>\n",
       "      <th>1</th>\n",
       "      <td>1869</td>\n",
       "      <td>4.3</td>\n",
       "      <td>-1.2</td>\n",
       "      <td>8</td>\n",
       "      <td>02</td>\n",
       "      <td>9.90</td>\n",
       "    </tr>\n",
       "    <tr>\n",
       "      <th>2</th>\n",
       "      <td>1869</td>\n",
       "      <td>5.5</td>\n",
       "      <td>-1.7</td>\n",
       "      <td>11</td>\n",
       "      <td>03</td>\n",
       "      <td>12.96</td>\n",
       "    </tr>\n",
       "    <tr>\n",
       "      <th>3</th>\n",
       "      <td>1869</td>\n",
       "      <td>13.1</td>\n",
       "      <td>6.7</td>\n",
       "      <td>8</td>\n",
       "      <td>04</td>\n",
       "      <td>11.52</td>\n",
       "    </tr>\n",
       "    <tr>\n",
       "      <th>5</th>\n",
       "      <td>1869</td>\n",
       "      <td>23.4</td>\n",
       "      <td>18.2</td>\n",
       "      <td>15</td>\n",
       "      <td>06</td>\n",
       "      <td>9.36</td>\n",
       "    </tr>\n",
       "  </tbody>\n",
       "</table>\n",
       "</div>"
      ],
      "text/plain": [
       "   Year  Average High Temp  Average Low Temp  Precip Days Month  Diurnal Range\n",
       "0  1869                4.2              -1.3            9    01           9.90\n",
       "1  1869                4.3              -1.2            8    02           9.90\n",
       "2  1869                5.5              -1.7           11    03          12.96\n",
       "3  1869               13.1               6.7            8    04          11.52\n",
       "5  1869               23.4              18.2           15    06           9.36"
      ]
     },
     "execution_count": 659,
     "metadata": {},
     "output_type": "execute_result"
    }
   ],
   "source": [
    "tempbymonth['Diurnal Range'] = tempbymonth['Average High Temp'] - tempbymonth['Average Low Temp']\n",
    "tempbymonth['Diurnal Range'] = tempbymonth['Diurnal Range']*(1.8)\n",
    "tempbymonth.head()"
   ]
  },
  {
   "cell_type": "markdown",
   "id": "64b9da69",
   "metadata": {},
   "source": [
    "Now let's get the Diurnal Range data for just November and December and transfer that data to our model dataframe (called tempmodel)"
   ]
  },
  {
   "cell_type": "code",
   "execution_count": 660,
   "id": "467febf5",
   "metadata": {},
   "outputs": [
    {
     "data": {
      "text/html": [
       "<div>\n",
       "<style scoped>\n",
       "    .dataframe tbody tr th:only-of-type {\n",
       "        vertical-align: middle;\n",
       "    }\n",
       "\n",
       "    .dataframe tbody tr th {\n",
       "        vertical-align: top;\n",
       "    }\n",
       "\n",
       "    .dataframe thead th {\n",
       "        text-align: right;\n",
       "    }\n",
       "</style>\n",
       "<table border=\"1\" class=\"dataframe\">\n",
       "  <thead>\n",
       "    <tr style=\"text-align: right;\">\n",
       "      <th></th>\n",
       "      <th>YEAR</th>\n",
       "      <th>NOV</th>\n",
       "      <th>DEC</th>\n",
       "      <th>JAN</th>\n",
       "      <th>Nov Diurnal Range</th>\n",
       "      <th>Dec Diurnal Range</th>\n",
       "    </tr>\n",
       "  </thead>\n",
       "  <tbody>\n",
       "    <tr>\n",
       "      <th>1</th>\n",
       "      <td>1869</td>\n",
       "      <td>-5.942763</td>\n",
       "      <td>-1.325658</td>\n",
       "      <td>1</td>\n",
       "      <td>10.26</td>\n",
       "      <td>12.06</td>\n",
       "    </tr>\n",
       "    <tr>\n",
       "      <th>2</th>\n",
       "      <td>1870</td>\n",
       "      <td>-0.742763</td>\n",
       "      <td>-1.925658</td>\n",
       "      <td>0</td>\n",
       "      <td>13.50</td>\n",
       "      <td>10.80</td>\n",
       "    </tr>\n",
       "    <tr>\n",
       "      <th>3</th>\n",
       "      <td>1871</td>\n",
       "      <td>-7.442763</td>\n",
       "      <td>-6.825658</td>\n",
       "      <td>0</td>\n",
       "      <td>13.14</td>\n",
       "      <td>12.24</td>\n",
       "    </tr>\n",
       "    <tr>\n",
       "      <th>4</th>\n",
       "      <td>1872</td>\n",
       "      <td>-5.242763</td>\n",
       "      <td>-9.325658</td>\n",
       "      <td>0</td>\n",
       "      <td>12.42</td>\n",
       "      <td>12.78</td>\n",
       "    </tr>\n",
       "    <tr>\n",
       "      <th>5</th>\n",
       "      <td>1873</td>\n",
       "      <td>-9.242763</td>\n",
       "      <td>0.474342</td>\n",
       "      <td>1</td>\n",
       "      <td>12.60</td>\n",
       "      <td>12.78</td>\n",
       "    </tr>\n",
       "  </tbody>\n",
       "</table>\n",
       "</div>"
      ],
      "text/plain": [
       "   YEAR       NOV       DEC  JAN  Nov Diurnal Range  Dec Diurnal Range\n",
       "1  1869 -5.942763 -1.325658    1              10.26              12.06\n",
       "2  1870 -0.742763 -1.925658    0              13.50              10.80\n",
       "3  1871 -7.442763 -6.825658    0              13.14              12.24\n",
       "4  1872 -5.242763 -9.325658    0              12.42              12.78\n",
       "5  1873 -9.242763  0.474342    1              12.60              12.78"
      ]
     },
     "execution_count": 660,
     "metadata": {},
     "output_type": "execute_result"
    }
   ],
   "source": [
    "tempbymonth['Year'] = tempbymonth['Year'].astype(int)\n",
    "tempbymonth['Month'] = tempbymonth['Month'].astype(int)\n",
    "tempmodel['Nov Diurnal Range'] = tempbymonth[tempbymonth['Month']==11][:-2]['Diurnal Range'].values\n",
    "tempmodel['Dec Diurnal Range'] = tempbymonth[tempbymonth['Month']==12][:-2]['Diurnal Range'].values\n",
    "tempmodel = tempmodel.drop(columns = ['OCT'])\n",
    "tempmodel.head()"
   ]
  },
  {
   "cell_type": "code",
   "execution_count": 675,
   "id": "4dcebda7",
   "metadata": {},
   "outputs": [
    {
     "data": {
      "text/plain": [
       "<AxesSubplot:>"
      ]
     },
     "execution_count": 675,
     "metadata": {},
     "output_type": "execute_result"
    },
    {
     "data": {
      "image/png": "[encoded data removed]",
      "text/plain": [
       "<Figure size 576x360 with 2 Axes>"
      ]
     },
     "metadata": {
      "needs_background": "light"
     },
     "output_type": "display_data"
    }
   ],
   "source": [
    "plt.figure(figsize = (8,5))\n",
    "sns.heatmap(tempmodel.corr(), annot = True)"
   ]
  },
  {
   "cell_type": "markdown",
   "id": "43dad3b5",
   "metadata": {},
   "source": [
    "Unfortunately, the dirunal ranges from both months do not have any correlation with Janurary. If we were to include those 2 variables into any supervised learning model, we would definitely not an increase in the f1-score at all. The next step now is to analyze the 2 variables further to see if we can get any insight from them. We can start by creating a box plot of each variable to see if there are any differences for a cold Janurary vs. a warm Janurary."
   ]
  },
  {
   "cell_type": "code",
   "execution_count": 677,
   "id": "16a58cf5",
   "metadata": {},
   "outputs": [
    {
     "data": {
      "image/png": "[encoded data removed]",
      "text/plain": [
       "<Figure size 360x288 with 1 Axes>"
      ]
     },
     "metadata": {
      "needs_background": "light"
     },
     "output_type": "display_data"
    }
   ],
   "source": [
    "plt.figure(figsize = (5,4))\n",
    "plt.grid()\n",
    "sns.boxplot(x = 'JAN', y = 'Nov Diurnal Range', data = tempmodel, palette = 'rainbow')\n",
    "plt.tight_layout()"
   ]
  },
  {
   "cell_type": "code",
   "execution_count": 678,
   "id": "7b2f58d0",
   "metadata": {},
   "outputs": [
    {
     "data": {
      "image/png": "[encoded data removed]",
      "text/plain": [
       "<Figure size 360x288 with 1 Axes>"
      ]
     },
     "metadata": {
      "needs_background": "light"
     },
     "output_type": "display_data"
    }
   ],
   "source": [
    "plt.figure(figsize = (5,4))\n",
    "plt.grid()\n",
    "sns.boxplot(x = 'JAN', y = 'Dec Diurnal Range', data = tempmodel, palette = 'rainbow')\n",
    "plt.tight_layout()"
   ]
  },
  {
   "cell_type": "code",
   "execution_count": 663,
   "id": "1039fb02",
   "metadata": {},
   "outputs": [
    {
     "data": {
      "text/html": [
       "<div>\n",
       "<style scoped>\n",
       "    .dataframe tbody tr th:only-of-type {\n",
       "        vertical-align: middle;\n",
       "    }\n",
       "\n",
       "    .dataframe tbody tr th {\n",
       "        vertical-align: top;\n",
       "    }\n",
       "\n",
       "    .dataframe thead th {\n",
       "        text-align: right;\n",
       "    }\n",
       "</style>\n",
       "<table border=\"1\" class=\"dataframe\">\n",
       "  <thead>\n",
       "    <tr style=\"text-align: right;\">\n",
       "      <th></th>\n",
       "      <th>YEAR</th>\n",
       "      <th>NOV</th>\n",
       "      <th>DEC</th>\n",
       "      <th>JAN</th>\n",
       "      <th>Nov Diurnal Range</th>\n",
       "      <th>Dec Diurnal Range</th>\n",
       "    </tr>\n",
       "  </thead>\n",
       "  <tbody>\n",
       "    <tr>\n",
       "      <th>count</th>\n",
       "      <td>151.000000</td>\n",
       "      <td>151.000000</td>\n",
       "      <td>151.000000</td>\n",
       "      <td>151.000000</td>\n",
       "      <td>151.000000</td>\n",
       "      <td>151.000000</td>\n",
       "    </tr>\n",
       "    <tr>\n",
       "      <th>mean</th>\n",
       "      <td>1944.000000</td>\n",
       "      <td>-0.044750</td>\n",
       "      <td>-0.021022</td>\n",
       "      <td>0.490066</td>\n",
       "      <td>12.644106</td>\n",
       "      <td>11.794172</td>\n",
       "    </tr>\n",
       "    <tr>\n",
       "      <th>std</th>\n",
       "      <td>43.734045</td>\n",
       "      <td>3.181100</td>\n",
       "      <td>4.244563</td>\n",
       "      <td>0.501565</td>\n",
       "      <td>1.457439</td>\n",
       "      <td>1.356080</td>\n",
       "    </tr>\n",
       "    <tr>\n",
       "      <th>min</th>\n",
       "      <td>1869.000000</td>\n",
       "      <td>-9.242763</td>\n",
       "      <td>-11.125658</td>\n",
       "      <td>0.000000</td>\n",
       "      <td>8.460000</td>\n",
       "      <td>8.640000</td>\n",
       "    </tr>\n",
       "    <tr>\n",
       "      <th>25%</th>\n",
       "      <td>1906.500000</td>\n",
       "      <td>-1.942763</td>\n",
       "      <td>-2.625658</td>\n",
       "      <td>0.000000</td>\n",
       "      <td>11.610000</td>\n",
       "      <td>10.980000</td>\n",
       "    </tr>\n",
       "    <tr>\n",
       "      <th>50%</th>\n",
       "      <td>1944.000000</td>\n",
       "      <td>-0.242763</td>\n",
       "      <td>-0.025658</td>\n",
       "      <td>0.000000</td>\n",
       "      <td>12.780000</td>\n",
       "      <td>11.700000</td>\n",
       "    </tr>\n",
       "    <tr>\n",
       "      <th>75%</th>\n",
       "      <td>1981.500000</td>\n",
       "      <td>2.207237</td>\n",
       "      <td>2.824342</td>\n",
       "      <td>1.000000</td>\n",
       "      <td>13.680000</td>\n",
       "      <td>12.780000</td>\n",
       "    </tr>\n",
       "    <tr>\n",
       "      <th>max</th>\n",
       "      <td>2019.000000</td>\n",
       "      <td>6.557237</td>\n",
       "      <td>14.774342</td>\n",
       "      <td>1.000000</td>\n",
       "      <td>15.840000</td>\n",
       "      <td>14.940000</td>\n",
       "    </tr>\n",
       "  </tbody>\n",
       "</table>\n",
       "</div>"
      ],
      "text/plain": [
       "              YEAR         NOV         DEC         JAN  Nov Diurnal Range  \\\n",
       "count   151.000000  151.000000  151.000000  151.000000         151.000000   \n",
       "mean   1944.000000   -0.044750   -0.021022    0.490066          12.644106   \n",
       "std      43.734045    3.181100    4.244563    0.501565           1.457439   \n",
       "min    1869.000000   -9.242763  -11.125658    0.000000           8.460000   \n",
       "25%    1906.500000   -1.942763   -2.625658    0.000000          11.610000   \n",
       "50%    1944.000000   -0.242763   -0.025658    0.000000          12.780000   \n",
       "75%    1981.500000    2.207237    2.824342    1.000000          13.680000   \n",
       "max    2019.000000    6.557237   14.774342    1.000000          15.840000   \n",
       "\n",
       "       Dec Diurnal Range  \n",
       "count         151.000000  \n",
       "mean           11.794172  \n",
       "std             1.356080  \n",
       "min             8.640000  \n",
       "25%            10.980000  \n",
       "50%            11.700000  \n",
       "75%            12.780000  \n",
       "max            14.940000  "
      ]
     },
     "execution_count": 663,
     "metadata": {},
     "output_type": "execute_result"
    }
   ],
   "source": [
    "tempmodel.describe()"
   ]
  },
  {
   "cell_type": "markdown",
   "id": "72844244",
   "metadata": {},
   "source": [
    "Unfortunately there isn't a way to distinguish a below normal Janurary from an above normal Janurary using Diurnal temp. data from November and December."
   ]
  },
  {
   "cell_type": "markdown",
   "id": "30ce4694",
   "metadata": {},
   "source": [
    "Last but not least, can we perform Multivariate Data Analysis? In other words, can we answer the question of whether an above normal November + a high diurnal range that same November is more likely to end up with the following Janurary being above normal, than a below normal November + a low diurnal temp. range that November?"
   ]
  },
  {
   "cell_type": "code",
   "execution_count": 664,
   "id": "dd92fd40",
   "metadata": {},
   "outputs": [
    {
     "data": {
      "text/plain": [
       "<AxesSubplot:xlabel='YEAR', ylabel='NOV'>"
      ]
     },
     "execution_count": 664,
     "metadata": {},
     "output_type": "execute_result"
    },
    {
     "data": {
      "image/png": "[encoded data removed]",
      "text/plain": [
       "<Figure size 360x288 with 2 Axes>"
      ]
     },
     "metadata": {
      "needs_background": "light"
     },
     "output_type": "display_data"
    }
   ],
   "source": [
    "plt.figure(figsize = (5,4))\n",
    "plt.grid()\n",
    "#tempmodel['JAN'] = np.where(tempmodel.JAN=='Below',0,1)\n",
    "sns.heatmap(pd.pivot_table(data = tempmodel, index = 'NOV', columns = 'YEAR', values = 'JAN'), annot=True)"
   ]
  },
  {
   "cell_type": "markdown",
   "id": "74f5ac3a",
   "metadata": {},
   "source": [
    "This is not what I want to see. Why does it look wonky? This is because we'll need to categorize our numerical columns. A pairplot would be more accurate in comparing 2 continious columns.\n",
    "Let's divide our temp. anamolies into; Below Normal, Normal, Above Normal. It's up to you to decide what the cutoffs should be, but it should be in a manner where each of the categories will have similar amounts of data.\n",
    "Same thing for dividing our Diurnal Temp. ranges into categories of; Low Range, Medium Range, High Range for November."
   ]
  },
  {
   "cell_type": "code",
   "execution_count": 665,
   "id": "1e5dd3ce",
   "metadata": {},
   "outputs": [
    {
     "data": {
      "text/html": [
       "<div>\n",
       "<style scoped>\n",
       "    .dataframe tbody tr th:only-of-type {\n",
       "        vertical-align: middle;\n",
       "    }\n",
       "\n",
       "    .dataframe tbody tr th {\n",
       "        vertical-align: top;\n",
       "    }\n",
       "\n",
       "    .dataframe thead th {\n",
       "        text-align: right;\n",
       "    }\n",
       "</style>\n",
       "<table border=\"1\" class=\"dataframe\">\n",
       "  <thead>\n",
       "    <tr style=\"text-align: right;\">\n",
       "      <th></th>\n",
       "      <th>YEAR</th>\n",
       "      <th>NOV</th>\n",
       "      <th>DEC</th>\n",
       "      <th>JAN</th>\n",
       "      <th>Nov Diurnal Range</th>\n",
       "      <th>Dec Diurnal Range</th>\n",
       "      <th>NOV ANAMOLY CAT</th>\n",
       "      <th>NOV DI RANGE</th>\n",
       "    </tr>\n",
       "  </thead>\n",
       "  <tbody>\n",
       "    <tr>\n",
       "      <th>1</th>\n",
       "      <td>1869</td>\n",
       "      <td>-5.942763</td>\n",
       "      <td>-1.325658</td>\n",
       "      <td>1</td>\n",
       "      <td>10.26</td>\n",
       "      <td>12.06</td>\n",
       "      <td>Below Normal</td>\n",
       "      <td>Low Range</td>\n",
       "    </tr>\n",
       "    <tr>\n",
       "      <th>2</th>\n",
       "      <td>1870</td>\n",
       "      <td>-0.742763</td>\n",
       "      <td>-1.925658</td>\n",
       "      <td>0</td>\n",
       "      <td>13.50</td>\n",
       "      <td>10.80</td>\n",
       "      <td>Normal</td>\n",
       "      <td>High Range</td>\n",
       "    </tr>\n",
       "    <tr>\n",
       "      <th>3</th>\n",
       "      <td>1871</td>\n",
       "      <td>-7.442763</td>\n",
       "      <td>-6.825658</td>\n",
       "      <td>0</td>\n",
       "      <td>13.14</td>\n",
       "      <td>12.24</td>\n",
       "      <td>Below Normal</td>\n",
       "      <td>Medium Range</td>\n",
       "    </tr>\n",
       "    <tr>\n",
       "      <th>4</th>\n",
       "      <td>1872</td>\n",
       "      <td>-5.242763</td>\n",
       "      <td>-9.325658</td>\n",
       "      <td>0</td>\n",
       "      <td>12.42</td>\n",
       "      <td>12.78</td>\n",
       "      <td>Below Normal</td>\n",
       "      <td>Medium Range</td>\n",
       "    </tr>\n",
       "    <tr>\n",
       "      <th>5</th>\n",
       "      <td>1873</td>\n",
       "      <td>-9.242763</td>\n",
       "      <td>0.474342</td>\n",
       "      <td>1</td>\n",
       "      <td>12.60</td>\n",
       "      <td>12.78</td>\n",
       "      <td>Below Normal</td>\n",
       "      <td>Medium Range</td>\n",
       "    </tr>\n",
       "  </tbody>\n",
       "</table>\n",
       "</div>"
      ],
      "text/plain": [
       "   YEAR       NOV       DEC  JAN  Nov Diurnal Range  Dec Diurnal Range  \\\n",
       "1  1869 -5.942763 -1.325658    1              10.26              12.06   \n",
       "2  1870 -0.742763 -1.925658    0              13.50              10.80   \n",
       "3  1871 -7.442763 -6.825658    0              13.14              12.24   \n",
       "4  1872 -5.242763 -9.325658    0              12.42              12.78   \n",
       "5  1873 -9.242763  0.474342    1              12.60              12.78   \n",
       "\n",
       "  NOV ANAMOLY CAT  NOV DI RANGE  \n",
       "1    Below Normal     Low Range  \n",
       "2          Normal    High Range  \n",
       "3    Below Normal  Medium Range  \n",
       "4    Below Normal  Medium Range  \n",
       "5    Below Normal  Medium Range  "
      ]
     },
     "execution_count": 665,
     "metadata": {},
     "output_type": "execute_result"
    }
   ],
   "source": [
    "catlist = []\n",
    "catlist2 = []\n",
    "for temp in tempmodel['NOV']:\n",
    "\n",
    "        \n",
    "    if temp <= -1.5 :\n",
    "        catlist.append('Below Normal')\n",
    "    elif temp > -1.5 and temp < 1.5 :\n",
    "        catlist.append('Normal')\n",
    "    else:\n",
    "        catlist.append('Above Normal')\n",
    "\n",
    "for dirange in tempmodel['Nov Diurnal Range']:\n",
    "    if dirange <= 11.8 :\n",
    "        catlist2.append('Low Range')\n",
    "    elif dirange > 11.8 and dirange < 13.4 :\n",
    "        catlist2.append('Medium Range')\n",
    "    else :\n",
    "        catlist2.append('High Range')\n",
    "\n",
    "tempmodel['NOV ANAMOLY CAT'] = catlist\n",
    "tempmodel['NOV DI RANGE'] = catlist2\n",
    "tempmodel.head()"
   ]
  },
  {
   "cell_type": "code",
   "execution_count": 666,
   "id": "62eee813",
   "metadata": {},
   "outputs": [
    {
     "data": {
      "text/plain": [
       "Below Normal    51\n",
       "Normal          50\n",
       "Above Normal    50\n",
       "Name: NOV ANAMOLY CAT, dtype: int64"
      ]
     },
     "execution_count": 666,
     "metadata": {},
     "output_type": "execute_result"
    }
   ],
   "source": [
    "tempmodel['NOV ANAMOLY CAT'].value_counts()"
   ]
  },
  {
   "cell_type": "code",
   "execution_count": 667,
   "id": "6e3b572c",
   "metadata": {},
   "outputs": [
    {
     "data": {
      "text/plain": [
       "Medium Range    63\n",
       "High Range      45\n",
       "Low Range       43\n",
       "Name: NOV DI RANGE, dtype: int64"
      ]
     },
     "execution_count": 667,
     "metadata": {},
     "output_type": "execute_result"
    }
   ],
   "source": [
    "tempmodel['NOV DI RANGE'].value_counts()"
   ]
  },
  {
   "cell_type": "code",
   "execution_count": 668,
   "id": "0a4b792a",
   "metadata": {},
   "outputs": [
    {
     "data": {
      "text/plain": [
       "<AxesSubplot:xlabel='NOV DI RANGE', ylabel='NOV ANAMOLY CAT'>"
      ]
     },
     "execution_count": 668,
     "metadata": {},
     "output_type": "execute_result"
    },
    {
     "data": {
      "image/png": "[encoded data removed]",
      "text/plain": [
       "<Figure size 360x288 with 2 Axes>"
      ]
     },
     "metadata": {
      "needs_background": "light"
     },
     "output_type": "display_data"
    }
   ],
   "source": [
    "plt.figure(figsize = (5,4))\n",
    "plt.grid()\n",
    "#tempmodel['JAN'] = np.where(tempmodel.JAN=='Below',0,1)\n",
    "sns.heatmap(pd.pivot_table(data = tempmodel, index = 'NOV ANAMOLY CAT', columns = 'NOV DI RANGE', values = 'JAN'), annot=True)"
   ]
  },
  {
   "cell_type": "markdown",
   "id": "05c53307",
   "metadata": {},
   "source": [
    "These values are not ideal (meaning most of these values are not closer to either 0 or 1). This makes sense as November is too far away from Janurary to really make an accurate prediction. Let's look at December then."
   ]
  },
  {
   "cell_type": "code",
   "execution_count": 669,
   "id": "19768a63",
   "metadata": {},
   "outputs": [
    {
     "data": {
      "text/html": [
       "<div>\n",
       "<style scoped>\n",
       "    .dataframe tbody tr th:only-of-type {\n",
       "        vertical-align: middle;\n",
       "    }\n",
       "\n",
       "    .dataframe tbody tr th {\n",
       "        vertical-align: top;\n",
       "    }\n",
       "\n",
       "    .dataframe thead th {\n",
       "        text-align: right;\n",
       "    }\n",
       "</style>\n",
       "<table border=\"1\" class=\"dataframe\">\n",
       "  <thead>\n",
       "    <tr style=\"text-align: right;\">\n",
       "      <th></th>\n",
       "      <th>YEAR</th>\n",
       "      <th>NOV</th>\n",
       "      <th>DEC</th>\n",
       "      <th>JAN</th>\n",
       "      <th>Nov Diurnal Range</th>\n",
       "      <th>Dec Diurnal Range</th>\n",
       "      <th>NOV ANAMOLY CAT</th>\n",
       "      <th>NOV DI RANGE</th>\n",
       "      <th>DEC ANAMOLY CAT</th>\n",
       "      <th>DEC DI RANGE</th>\n",
       "    </tr>\n",
       "  </thead>\n",
       "  <tbody>\n",
       "    <tr>\n",
       "      <th>1</th>\n",
       "      <td>1869</td>\n",
       "      <td>-5.942763</td>\n",
       "      <td>-1.325658</td>\n",
       "      <td>1</td>\n",
       "      <td>10.26</td>\n",
       "      <td>12.06</td>\n",
       "      <td>Below Normal</td>\n",
       "      <td>Low Range</td>\n",
       "      <td>Normal</td>\n",
       "      <td>Medium Range</td>\n",
       "    </tr>\n",
       "    <tr>\n",
       "      <th>2</th>\n",
       "      <td>1870</td>\n",
       "      <td>-0.742763</td>\n",
       "      <td>-1.925658</td>\n",
       "      <td>0</td>\n",
       "      <td>13.50</td>\n",
       "      <td>10.80</td>\n",
       "      <td>Normal</td>\n",
       "      <td>High Range</td>\n",
       "      <td>Normal</td>\n",
       "      <td>Low Range</td>\n",
       "    </tr>\n",
       "    <tr>\n",
       "      <th>3</th>\n",
       "      <td>1871</td>\n",
       "      <td>-7.442763</td>\n",
       "      <td>-6.825658</td>\n",
       "      <td>0</td>\n",
       "      <td>13.14</td>\n",
       "      <td>12.24</td>\n",
       "      <td>Below Normal</td>\n",
       "      <td>Medium Range</td>\n",
       "      <td>Below Normal</td>\n",
       "      <td>Medium Range</td>\n",
       "    </tr>\n",
       "    <tr>\n",
       "      <th>4</th>\n",
       "      <td>1872</td>\n",
       "      <td>-5.242763</td>\n",
       "      <td>-9.325658</td>\n",
       "      <td>0</td>\n",
       "      <td>12.42</td>\n",
       "      <td>12.78</td>\n",
       "      <td>Below Normal</td>\n",
       "      <td>Medium Range</td>\n",
       "      <td>Below Normal</td>\n",
       "      <td>High Range</td>\n",
       "    </tr>\n",
       "    <tr>\n",
       "      <th>5</th>\n",
       "      <td>1873</td>\n",
       "      <td>-9.242763</td>\n",
       "      <td>0.474342</td>\n",
       "      <td>1</td>\n",
       "      <td>12.60</td>\n",
       "      <td>12.78</td>\n",
       "      <td>Below Normal</td>\n",
       "      <td>Medium Range</td>\n",
       "      <td>Normal</td>\n",
       "      <td>High Range</td>\n",
       "    </tr>\n",
       "  </tbody>\n",
       "</table>\n",
       "</div>"
      ],
      "text/plain": [
       "   YEAR       NOV       DEC  JAN  Nov Diurnal Range  Dec Diurnal Range  \\\n",
       "1  1869 -5.942763 -1.325658    1              10.26              12.06   \n",
       "2  1870 -0.742763 -1.925658    0              13.50              10.80   \n",
       "3  1871 -7.442763 -6.825658    0              13.14              12.24   \n",
       "4  1872 -5.242763 -9.325658    0              12.42              12.78   \n",
       "5  1873 -9.242763  0.474342    1              12.60              12.78   \n",
       "\n",
       "  NOV ANAMOLY CAT  NOV DI RANGE DEC ANAMOLY CAT  DEC DI RANGE  \n",
       "1    Below Normal     Low Range          Normal  Medium Range  \n",
       "2          Normal    High Range          Normal     Low Range  \n",
       "3    Below Normal  Medium Range    Below Normal  Medium Range  \n",
       "4    Below Normal  Medium Range    Below Normal    High Range  \n",
       "5    Below Normal  Medium Range          Normal    High Range  "
      ]
     },
     "execution_count": 669,
     "metadata": {},
     "output_type": "execute_result"
    }
   ],
   "source": [
    "catlist = []\n",
    "catlist2 = []\n",
    "for temp in tempmodel['DEC']:\n",
    "        \n",
    "    if temp <= -2.0 :\n",
    "        catlist.append('Below Normal')\n",
    "    elif temp > -2.0 and temp < 2.0 :\n",
    "        catlist.append('Normal')\n",
    "    else:\n",
    "        catlist.append('Above Normal')\n",
    "\n",
    "for dirange in tempmodel['Dec Diurnal Range']:\n",
    "    if dirange <= 11 :\n",
    "        catlist2.append('Low Range')\n",
    "    elif dirange > 11 and dirange < 12.6 :\n",
    "        catlist2.append('Medium Range')\n",
    "    else :\n",
    "        catlist2.append('High Range')\n",
    "\n",
    "tempmodel['DEC ANAMOLY CAT'] = catlist\n",
    "tempmodel['DEC DI RANGE'] = catlist2\n",
    "tempmodel.head()"
   ]
  },
  {
   "cell_type": "code",
   "execution_count": 670,
   "id": "96b837c2",
   "metadata": {},
   "outputs": [
    {
     "data": {
      "text/plain": [
       "Above Normal    58\n",
       "Below Normal    49\n",
       "Normal          44\n",
       "Name: DEC ANAMOLY CAT, dtype: int64"
      ]
     },
     "execution_count": 670,
     "metadata": {},
     "output_type": "execute_result"
    }
   ],
   "source": [
    "tempmodel['DEC ANAMOLY CAT'].value_counts()"
   ]
  },
  {
   "cell_type": "code",
   "execution_count": 671,
   "id": "cac8760f",
   "metadata": {},
   "outputs": [
    {
     "data": {
      "text/plain": [
       "Medium Range    63\n",
       "High Range      46\n",
       "Low Range       42\n",
       "Name: DEC DI RANGE, dtype: int64"
      ]
     },
     "execution_count": 671,
     "metadata": {},
     "output_type": "execute_result"
    }
   ],
   "source": [
    "tempmodel['DEC DI RANGE'].value_counts()"
   ]
  },
  {
   "cell_type": "code",
   "execution_count": 672,
   "id": "fa566d9f",
   "metadata": {},
   "outputs": [
    {
     "data": {
      "text/plain": [
       "<AxesSubplot:xlabel='DEC DI RANGE', ylabel='DEC ANAMOLY CAT'>"
      ]
     },
     "execution_count": 672,
     "metadata": {},
     "output_type": "execute_result"
    },
    {
     "data": {
      "image/png": "[encoded data removed]",
      "text/plain": [
       "<Figure size 360x288 with 2 Axes>"
      ]
     },
     "metadata": {
      "needs_background": "light"
     },
     "output_type": "display_data"
    }
   ],
   "source": [
    "plt.figure(figsize = (5,4))\n",
    "plt.grid()\n",
    "#tempmodel['JAN'] = np.where(tempmodel.JAN=='Below',0,1)\n",
    "sns.heatmap(pd.pivot_table(data = tempmodel, index = 'DEC ANAMOLY CAT', columns = 'DEC DI RANGE', values = 'JAN'), annot=True)"
   ]
  },
  {
   "cell_type": "markdown",
   "id": "511c36f5",
   "metadata": {},
   "source": [
    "What can take from this analysis? We know an above normal December is more likely to lead to an above normal Janurary than a below normal December, but what about when Diurnal Range is also involved? We see that the distinction between a below normal Janurary and an above normal Janurary is the greatest for a December diurnal range that is considered LOW."
   ]
  },
  {
   "cell_type": "markdown",
   "id": "180d8028",
   "metadata": {},
   "source": [
    "One more analysis; what about the combination of November + December anamoly temps? Is a warm November + warm December really more likely to lead to a warm Janurary? What about a cold November + cold December?"
   ]
  },
  {
   "cell_type": "code",
   "execution_count": 673,
   "id": "208a131a",
   "metadata": {},
   "outputs": [
    {
     "data": {
      "text/plain": [
       "<AxesSubplot:xlabel='DEC ANAMOLY CAT', ylabel='NOV ANAMOLY CAT'>"
      ]
     },
     "execution_count": 673,
     "metadata": {},
     "output_type": "execute_result"
    },
    {
     "data": {
      "image/png": "[encoded data removed]",
      "text/plain": [
       "<Figure size 360x288 with 2 Axes>"
      ]
     },
     "metadata": {
      "needs_background": "light"
     },
     "output_type": "display_data"
    }
   ],
   "source": [
    "plt.figure(figsize = (5,4))\n",
    "plt.grid()\n",
    "#tempmodel['JAN'] = np.where(tempmodel.JAN=='Below',0,1)\n",
    "sns.heatmap(pd.pivot_table(data = tempmodel, index = 'NOV ANAMOLY CAT', columns = 'DEC ANAMOLY CAT', values = 'JAN'), annot=True)"
   ]
  },
  {
   "cell_type": "markdown",
   "id": "23d3c2b7",
   "metadata": {},
   "source": [
    "Surprisingly, we can see that a warm November + a cold December is more likely to lead to a cold Janurary than a cold November + a cold December. We also see a cold November + a warm December is just as likely to lead to a warm Janurary than a warm November + a warm December. \n",
    "\n",
    "To conclude, unfortunately, in order to make an accurate prediction on whether Janurary will be warm or cold, we had to stick to performing exploratory data analysis (EDA) on 3 critical process parameters each for November and December; temp. anamoly of each month which later became categorized, sea surface temperature, and the dirunal temp. range for each month which also became categorized. Based on the heat maps, sending all these variables through a supervised learning model will not give us a high f-1 score, so we had to scruntize each variable further to see if we can grab anything useful.\n",
    "\n",
    "One of the biggest drawbacks of this project was not having enough data; for the sea surface temperature, reliable data only goes far back to 1950. There are other variables we could not get any data for (such as the standard deviation for each month by temperature, the number of cold fronts of any severity that swept through the city by month, and the amount of sunshine recieved by month). It is also likely that these variables will have no correlation with Janurary and further digestion of each variable would happen. At some point, doing that would take too long and unnecessary, as the variables we've analyzed earlier have already told us a story. This is why EDA is so important; heat maps and supervised learning models won't always give us accurate predictions."
   ]
  }
 ],
 "metadata": {
  "kernelspec": {
   "display_name": "Python 3 (ipykernel)",
   "language": "python",
   "name": "python3"
  },
  "language_info": {
   "codemirror_mode": {
    "name": "ipython",
    "version": 3
   },
   "file_extension": ".py",
   "mimetype": "text/x-python",
   "name": "python",
   "nbconvert_exporter": "python",
   "pygments_lexer": "ipython3",
   "version": "3.8.12"
  }
 },
 "nbformat": 4,
 "nbformat_minor": 5
}
